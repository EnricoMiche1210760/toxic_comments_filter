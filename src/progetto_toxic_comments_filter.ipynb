{
  "cells": [
    {
      "cell_type": "markdown",
      "metadata": {
        "colab_type": "text",
        "id": "view-in-github"
      },
      "source": [
        "<a href=\"https://colab.research.google.com/github/EnricoMiche1210760/toxic_comments_filter/blob/main/src/progetto_toxic_comments_filter.ipynb\" target=\"_parent\"><img src=\"https://colab.research.google.com/assets/colab-badge.svg\" alt=\"Open In Colab\"/></a>"
      ]
    },
    {
      "cell_type": "markdown",
      "id": "1f1eac10",
      "metadata": {
        "id": "1f1eac10"
      },
      "source": [
        "## Project: Toxic Comment Filter"
      ]
    },
    {
      "cell_type": "markdown",
      "id": "3504d2cc",
      "metadata": {
        "id": "3504d2cc"
      },
      "source": [
        "The goal of this project is to build a model able to filter user comments based on the degree of harmfulness of the language:\n",
        "1. Preprocess the text by removing the set of tokens that do not provide significant semantic contribution\n",
        "2. Transform the text corpus into sequences\n",
        "3. Build a Deep Learning model including recurrent layers for a multilabel classification task\n",
        "4. In prediction time, the model must return a vector containing a 1 or a 0 corresponding to each label present in the dataset (toxic, severe_toxic, obscene, threat, insult, identity_hate). In this way, a non-harmful comment will be classified by a vector of only 0s [0,0,0,0,0,0]. On the contrary, a dangerous comment will have at least one 1 among the 6 labels."
      ]
    },
    {
      "cell_type": "code",
      "execution_count": 1,
      "id": "bc231d72",
      "metadata": {
        "colab": {
          "base_uri": "https://localhost:8080/"
        },
        "id": "bc231d72",
        "outputId": "d6618426-d17b-4066-e06a-f8e70b630d2a"
      },
      "outputs": [
        {
          "name": "stderr",
          "output_type": "stream",
          "text": [
            "2024-05-31 16:26:21.954017: I tensorflow/core/util/port.cc:113] oneDNN custom operations are on. You may see slightly different numerical results due to floating-point round-off errors from different computation orders. To turn them off, set the environment variable `TF_ENABLE_ONEDNN_OPTS=0`.\n",
            "2024-05-31 16:26:21.955928: I external/local_tsl/tsl/cuda/cudart_stub.cc:31] Could not find cuda drivers on your machine, GPU will not be used.\n",
            "2024-05-31 16:26:21.985435: E external/local_xla/xla/stream_executor/cuda/cuda_dnn.cc:9261] Unable to register cuDNN factory: Attempting to register factory for plugin cuDNN when one has already been registered\n",
            "2024-05-31 16:26:21.985468: E external/local_xla/xla/stream_executor/cuda/cuda_fft.cc:607] Unable to register cuFFT factory: Attempting to register factory for plugin cuFFT when one has already been registered\n",
            "2024-05-31 16:26:21.986202: E external/local_xla/xla/stream_executor/cuda/cuda_blas.cc:1515] Unable to register cuBLAS factory: Attempting to register factory for plugin cuBLAS when one has already been registered\n",
            "2024-05-31 16:26:21.990604: I external/local_tsl/tsl/cuda/cudart_stub.cc:31] Could not find cuda drivers on your machine, GPU will not be used.\n",
            "2024-05-31 16:26:21.991042: I tensorflow/core/platform/cpu_feature_guard.cc:182] This TensorFlow binary is optimized to use available CPU instructions in performance-critical operations.\n",
            "To enable the following instructions: AVX2 AVX_VNNI FMA, in other operations, rebuild TensorFlow with the appropriate compiler flags.\n",
            "2024-05-31 16:26:22.711092: W tensorflow/compiler/tf2tensorrt/utils/py_utils.cc:38] TF-TRT Warning: Could not find TensorRT\n"
          ]
        }
      ],
      "source": [
        "import pandas as pd\n",
        "import numpy as np\n",
        "import warnings\n",
        "import tensorflow as tf\n",
        "import process as pr\n",
        "import nltk\n",
        "import spacy\n",
        "import os\n",
        "from keras.backend import clear_session\n",
        "import models as md\n",
        "import pickle\n",
        "from tensorflow.keras.models import load_model\n",
        "from models import EarlyStopping, LSTM_model\n",
        "import matplotlib.pyplot as plt\n",
        "import plots as pl\n",
        "\n",
        "from sklearn.model_selection import train_test_split\n",
        "from tensorflow.keras.preprocessing.text import Tokenizer\n",
        "from tensorflow.keras.preprocessing.sequence import pad_sequences\n",
        "\n",
        "from IPython.core.interactiveshell import InteractiveShell\n",
        "InteractiveShell.ast_node_interactivity = \"all\"\n",
        "%config Completer.use_jedi = False\n",
        "os.environ['TF_CPP_MIN_LOG_LEVEL'] = '3'\n",
        "warnings.filterwarnings(\"ignore\")\n",
        "tf.compat.v1.logging.set_verbosity(tf.compat.v1.logging.ERROR)\n",
        "\n",
        "COLAB = False\n",
        "if \"google.colab\" in str(get_ipython()):\n",
        "    COLAB = True\n",
        "    print('Running on CoLab')\n",
        "\n",
        "answer = \"\"\n",
        "models_dir = \"\"\n",
        "if COLAB:\n",
        "  models_dir=\"./models\"\n",
        "else:\n",
        "  models_dir=\"../models\""
      ]
    },
    {
      "cell_type": "code",
      "execution_count": 2,
      "id": "c2f2fb60",
      "metadata": {
        "id": "c2f2fb60"
      },
      "outputs": [],
      "source": [
        "if COLAB == True:\n",
        "    BASE_URL = \"https://s3.eu-west-3.amazonaws.com/profession.ai/datasets/\"\n",
        "    storage_folder = \"./\"\n",
        "else:\n",
        "    BASE_URL = \"../data/\"\n",
        "    storage_folder = BASE_URL\n",
        "df = pd.read_csv(BASE_URL+\"Filter_Toxic_Comments_dataset.csv\")"
      ]
    },
    {
      "cell_type": "markdown",
      "id": "259ce249",
      "metadata": {},
      "source": [
        "## Dataset\n",
        "First of all we can analyze the dataset that we have to use for this project. The dataset is composed of 159571 comments and 8 columns. The columns are:\n",
        "- comment_text: the text of the comment\n",
        "- toxic: binary label that indicates if the comment is toxic\n",
        "- severe_toxic: binary label that indicates if the comment is severely toxic\n",
        "- obscene: binary label that indicates if the comment is obscene\n",
        "- threat: binary label that indicates if the comment is a threat\n",
        "- insult: binary label that indicates if the comment is an insult\n",
        "- identity_hate: binary label that indicates if the comment is an identity hate\n",
        "- sum_injurious: sum of the labels toxic, severe_toxic, obscene, threat, insult, identity_hate"
      ]
    },
    {
      "cell_type": "code",
      "execution_count": 3,
      "id": "66c3d701",
      "metadata": {
        "colab": {
          "base_uri": "https://localhost:8080/",
          "height": 310
        },
        "id": "66c3d701",
        "outputId": "197035de-66d8-4441-e8cc-2344c9c94439"
      },
      "outputs": [
        {
          "data": {
            "text/html": [
              "<div>\n",
              "<style scoped>\n",
              "    .dataframe tbody tr th:only-of-type {\n",
              "        vertical-align: middle;\n",
              "    }\n",
              "\n",
              "    .dataframe tbody tr th {\n",
              "        vertical-align: top;\n",
              "    }\n",
              "\n",
              "    .dataframe thead th {\n",
              "        text-align: right;\n",
              "    }\n",
              "</style>\n",
              "<table border=\"1\" class=\"dataframe\">\n",
              "  <thead>\n",
              "    <tr style=\"text-align: right;\">\n",
              "      <th></th>\n",
              "      <th>comment_text</th>\n",
              "      <th>toxic</th>\n",
              "      <th>severe_toxic</th>\n",
              "      <th>obscene</th>\n",
              "      <th>threat</th>\n",
              "      <th>insult</th>\n",
              "      <th>identity_hate</th>\n",
              "      <th>sum_injurious</th>\n",
              "    </tr>\n",
              "  </thead>\n",
              "  <tbody>\n",
              "    <tr>\n",
              "      <th>0</th>\n",
              "      <td>Explanation\\nWhy the edits made under my usern...</td>\n",
              "      <td>0</td>\n",
              "      <td>0</td>\n",
              "      <td>0</td>\n",
              "      <td>0</td>\n",
              "      <td>0</td>\n",
              "      <td>0</td>\n",
              "      <td>0</td>\n",
              "    </tr>\n",
              "    <tr>\n",
              "      <th>1</th>\n",
              "      <td>D'aww! He matches this background colour I'm s...</td>\n",
              "      <td>0</td>\n",
              "      <td>0</td>\n",
              "      <td>0</td>\n",
              "      <td>0</td>\n",
              "      <td>0</td>\n",
              "      <td>0</td>\n",
              "      <td>0</td>\n",
              "    </tr>\n",
              "    <tr>\n",
              "      <th>2</th>\n",
              "      <td>Hey man, I'm really not trying to edit war. It...</td>\n",
              "      <td>0</td>\n",
              "      <td>0</td>\n",
              "      <td>0</td>\n",
              "      <td>0</td>\n",
              "      <td>0</td>\n",
              "      <td>0</td>\n",
              "      <td>0</td>\n",
              "    </tr>\n",
              "    <tr>\n",
              "      <th>3</th>\n",
              "      <td>\"\\nMore\\nI can't make any real suggestions on ...</td>\n",
              "      <td>0</td>\n",
              "      <td>0</td>\n",
              "      <td>0</td>\n",
              "      <td>0</td>\n",
              "      <td>0</td>\n",
              "      <td>0</td>\n",
              "      <td>0</td>\n",
              "    </tr>\n",
              "    <tr>\n",
              "      <th>4</th>\n",
              "      <td>You, sir, are my hero. Any chance you remember...</td>\n",
              "      <td>0</td>\n",
              "      <td>0</td>\n",
              "      <td>0</td>\n",
              "      <td>0</td>\n",
              "      <td>0</td>\n",
              "      <td>0</td>\n",
              "      <td>0</td>\n",
              "    </tr>\n",
              "  </tbody>\n",
              "</table>\n",
              "</div>"
            ],
            "text/plain": [
              "                                        comment_text  toxic  severe_toxic  \\\n",
              "0  Explanation\\nWhy the edits made under my usern...      0             0   \n",
              "1  D'aww! He matches this background colour I'm s...      0             0   \n",
              "2  Hey man, I'm really not trying to edit war. It...      0             0   \n",
              "3  \"\\nMore\\nI can't make any real suggestions on ...      0             0   \n",
              "4  You, sir, are my hero. Any chance you remember...      0             0   \n",
              "\n",
              "   obscene  threat  insult  identity_hate  sum_injurious  \n",
              "0        0       0       0              0              0  \n",
              "1        0       0       0              0              0  \n",
              "2        0       0       0              0              0  \n",
              "3        0       0       0              0              0  \n",
              "4        0       0       0              0              0  "
            ]
          },
          "execution_count": 3,
          "metadata": {},
          "output_type": "execute_result"
        }
      ],
      "source": [
        "df.head()"
      ]
    },
    {
      "cell_type": "markdown",
      "id": "bb546106",
      "metadata": {},
      "source": [
        "We can check all the comments that have 2 labels set to 1. "
      ]
    },
    {
      "cell_type": "code",
      "execution_count": 4,
      "id": "19e65ce3",
      "metadata": {
        "colab": {
          "base_uri": "https://localhost:8080/",
          "height": 788
        },
        "id": "19e65ce3",
        "outputId": "6698856f-f775-4c60-93f1-5fd56b275a8a"
      },
      "outputs": [
        {
          "data": {
            "text/html": [
              "<div>\n",
              "<style scoped>\n",
              "    .dataframe tbody tr th:only-of-type {\n",
              "        vertical-align: middle;\n",
              "    }\n",
              "\n",
              "    .dataframe tbody tr th {\n",
              "        vertical-align: top;\n",
              "    }\n",
              "\n",
              "    .dataframe thead th {\n",
              "        text-align: right;\n",
              "    }\n",
              "</style>\n",
              "<table border=\"1\" class=\"dataframe\">\n",
              "  <thead>\n",
              "    <tr style=\"text-align: right;\">\n",
              "      <th></th>\n",
              "      <th>comment_text</th>\n",
              "      <th>toxic</th>\n",
              "      <th>severe_toxic</th>\n",
              "      <th>obscene</th>\n",
              "      <th>threat</th>\n",
              "      <th>insult</th>\n",
              "      <th>identity_hate</th>\n",
              "      <th>sum_injurious</th>\n",
              "    </tr>\n",
              "  </thead>\n",
              "  <tbody>\n",
              "    <tr>\n",
              "      <th>51</th>\n",
              "      <td>GET FUCKED UP. GET FUCKEEED UP.  GOT A DRINK T...</td>\n",
              "      <td>1</td>\n",
              "      <td>0</td>\n",
              "      <td>1</td>\n",
              "      <td>0</td>\n",
              "      <td>0</td>\n",
              "      <td>0</td>\n",
              "      <td>2</td>\n",
              "    </tr>\n",
              "    <tr>\n",
              "      <th>58</th>\n",
              "      <td>My Band Page's deletion. You thought I was gon...</td>\n",
              "      <td>1</td>\n",
              "      <td>0</td>\n",
              "      <td>1</td>\n",
              "      <td>0</td>\n",
              "      <td>0</td>\n",
              "      <td>0</td>\n",
              "      <td>2</td>\n",
              "    </tr>\n",
              "    <tr>\n",
              "      <th>79</th>\n",
              "      <td>Hi! I am back again!\\nLast warning!\\nStop undo...</td>\n",
              "      <td>1</td>\n",
              "      <td>0</td>\n",
              "      <td>0</td>\n",
              "      <td>1</td>\n",
              "      <td>0</td>\n",
              "      <td>0</td>\n",
              "      <td>2</td>\n",
              "    </tr>\n",
              "    <tr>\n",
              "      <th>86</th>\n",
              "      <td>Would you both shut up, you don't run wikipedi...</td>\n",
              "      <td>1</td>\n",
              "      <td>0</td>\n",
              "      <td>0</td>\n",
              "      <td>0</td>\n",
              "      <td>1</td>\n",
              "      <td>0</td>\n",
              "      <td>2</td>\n",
              "    </tr>\n",
              "    <tr>\n",
              "      <th>168</th>\n",
              "      <td>You should be fired, you're a moronic wimp who...</td>\n",
              "      <td>1</td>\n",
              "      <td>0</td>\n",
              "      <td>0</td>\n",
              "      <td>0</td>\n",
              "      <td>1</td>\n",
              "      <td>0</td>\n",
              "      <td>2</td>\n",
              "    </tr>\n",
              "    <tr>\n",
              "      <th>...</th>\n",
              "      <td>...</td>\n",
              "      <td>...</td>\n",
              "      <td>...</td>\n",
              "      <td>...</td>\n",
              "      <td>...</td>\n",
              "      <td>...</td>\n",
              "      <td>...</td>\n",
              "      <td>...</td>\n",
              "    </tr>\n",
              "    <tr>\n",
              "      <th>159253</th>\n",
              "      <td>what do you mean \\n\\nwhy don't you keep your n...</td>\n",
              "      <td>1</td>\n",
              "      <td>0</td>\n",
              "      <td>1</td>\n",
              "      <td>0</td>\n",
              "      <td>0</td>\n",
              "      <td>0</td>\n",
              "      <td>2</td>\n",
              "    </tr>\n",
              "    <tr>\n",
              "      <th>159334</th>\n",
              "      <td>Horse's ass \\n\\nSeriously, dude, what's that h...</td>\n",
              "      <td>1</td>\n",
              "      <td>0</td>\n",
              "      <td>1</td>\n",
              "      <td>0</td>\n",
              "      <td>0</td>\n",
              "      <td>0</td>\n",
              "      <td>2</td>\n",
              "    </tr>\n",
              "    <tr>\n",
              "      <th>159449</th>\n",
              "      <td>I think he is a gay fag!!!</td>\n",
              "      <td>1</td>\n",
              "      <td>0</td>\n",
              "      <td>0</td>\n",
              "      <td>0</td>\n",
              "      <td>0</td>\n",
              "      <td>1</td>\n",
              "      <td>2</td>\n",
              "    </tr>\n",
              "    <tr>\n",
              "      <th>159514</th>\n",
              "      <td>YOU ARE A MISCHIEVIOUS PUBIC HAIR</td>\n",
              "      <td>1</td>\n",
              "      <td>0</td>\n",
              "      <td>0</td>\n",
              "      <td>0</td>\n",
              "      <td>1</td>\n",
              "      <td>0</td>\n",
              "      <td>2</td>\n",
              "    </tr>\n",
              "    <tr>\n",
              "      <th>159546</th>\n",
              "      <td>\"\\n\\nHey listen don't you ever!!!! Delete my e...</td>\n",
              "      <td>1</td>\n",
              "      <td>0</td>\n",
              "      <td>0</td>\n",
              "      <td>0</td>\n",
              "      <td>1</td>\n",
              "      <td>0</td>\n",
              "      <td>2</td>\n",
              "    </tr>\n",
              "  </tbody>\n",
              "</table>\n",
              "<p>3480 rows × 8 columns</p>\n",
              "</div>"
            ],
            "text/plain": [
              "                                             comment_text  toxic  \\\n",
              "51      GET FUCKED UP. GET FUCKEEED UP.  GOT A DRINK T...      1   \n",
              "58      My Band Page's deletion. You thought I was gon...      1   \n",
              "79      Hi! I am back again!\\nLast warning!\\nStop undo...      1   \n",
              "86      Would you both shut up, you don't run wikipedi...      1   \n",
              "168     You should be fired, you're a moronic wimp who...      1   \n",
              "...                                                   ...    ...   \n",
              "159253  what do you mean \\n\\nwhy don't you keep your n...      1   \n",
              "159334  Horse's ass \\n\\nSeriously, dude, what's that h...      1   \n",
              "159449                         I think he is a gay fag!!!      1   \n",
              "159514                  YOU ARE A MISCHIEVIOUS PUBIC HAIR      1   \n",
              "159546  \"\\n\\nHey listen don't you ever!!!! Delete my e...      1   \n",
              "\n",
              "        severe_toxic  obscene  threat  insult  identity_hate  sum_injurious  \n",
              "51                 0        1       0       0              0              2  \n",
              "58                 0        1       0       0              0              2  \n",
              "79                 0        0       1       0              0              2  \n",
              "86                 0        0       0       1              0              2  \n",
              "168                0        0       0       1              0              2  \n",
              "...              ...      ...     ...     ...            ...            ...  \n",
              "159253             0        1       0       0              0              2  \n",
              "159334             0        1       0       0              0              2  \n",
              "159449             0        0       0       0              1              2  \n",
              "159514             0        0       0       1              0              2  \n",
              "159546             0        0       0       1              0              2  \n",
              "\n",
              "[3480 rows x 8 columns]"
            ]
          },
          "execution_count": 4,
          "metadata": {},
          "output_type": "execute_result"
        }
      ],
      "source": [
        "df[df['sum_injurious']==2]"
      ]
    },
    {
      "cell_type": "code",
      "execution_count": 5,
      "id": "6b21e249",
      "metadata": {
        "colab": {
          "base_uri": "https://localhost:8080/"
        },
        "id": "6b21e249",
        "outputId": "ba3e7fab-5378-4018-dc23-f29db358df7d"
      },
      "outputs": [
        {
          "data": {
            "text/plain": [
              "159571"
            ]
          },
          "execution_count": 5,
          "metadata": {},
          "output_type": "execute_result"
        }
      ],
      "source": [
        "len(df)"
      ]
    },
    {
      "cell_type": "markdown",
      "id": "12e5a6e1",
      "metadata": {},
      "source": [
        "### Dataset preprocessing\n",
        "The dataset is already clean, so we can start with the preprocessing of the text. We decided to remove the set of tokens that do not provide significant semantic contribution, plus the stopwords and the punctuation.\n",
        "To remove stopwords and punctuation we use the library nltk, while to remove the set of tokens that do not provide significant semantic contribution we use the library spacy, loading the model 'en_core_web_sm'.\n",
        "Since the corpus is very large, we also decided to remove words smaller than 3 characters."
      ]
    },
    {
      "cell_type": "code",
      "execution_count": 6,
      "id": "6a6421ed",
      "metadata": {
        "colab": {
          "base_uri": "https://localhost:8080/"
        },
        "id": "6a6421ed",
        "outputId": "f0bf0c34-efaf-4ce8-9dc8-a9a2eeb06d9e"
      },
      "outputs": [
        {
          "data": {
            "text/plain": [
              "numpy.ndarray"
            ]
          },
          "execution_count": 6,
          "metadata": {},
          "output_type": "execute_result"
        }
      ],
      "source": [
        "df_text = np.array(df['comment_text'])\n",
        "type(df_text)\n",
        "\n",
        "nlp, eng_stopwords = pr.load_dictionary('en_core_web_sm', 'english', 'punkt', stopword=True)\n",
        "preprocessed_text= pr.preprocess_text_and_store(df_text, doc_store=\"preprocessed_text.csv\", path=storage_folder, store=True, eng_stopwords=eng_stopwords, nlp=nlp, COLAB=COLAB)\n"
      ]
    },
    {
      "cell_type": "code",
      "execution_count": 7,
      "id": "bd95da42",
      "metadata": {
        "colab": {
          "base_uri": "https://localhost:8080/",
          "height": 106
        },
        "id": "bd95da42",
        "outputId": "394754e4-955b-4850-ca60-1abe15e469eb"
      },
      "outputs": [
        {
          "data": {
            "text/plain": [
              "\"Explanation\\nWhy the edits made under my username Hardcore Metallica Fan were reverted? They weren't vandalisms, just closure on some GAs after I voted at New York Dolls FAC. And please don't remove the template from the talk page since I'm retired now.89.205.38.27\""
            ]
          },
          "execution_count": 7,
          "metadata": {},
          "output_type": "execute_result"
        },
        {
          "data": {
            "text/plain": [
              "'explanation edits made username hardcore metallica fan reverted vandalisms closure gas voted new york dolls fac please remove template talk page since retired'"
            ]
          },
          "execution_count": 7,
          "metadata": {},
          "output_type": "execute_result"
        }
      ],
      "source": [
        "df_text[0]\n",
        "preprocessed_text[0]"
      ]
    },
    {
      "cell_type": "code",
      "execution_count": 8,
      "id": "b8d663cf",
      "metadata": {
        "id": "b8d663cf"
      },
      "outputs": [
        {
          "data": {
            "text/html": [
              "<div>\n",
              "<style scoped>\n",
              "    .dataframe tbody tr th:only-of-type {\n",
              "        vertical-align: middle;\n",
              "    }\n",
              "\n",
              "    .dataframe tbody tr th {\n",
              "        vertical-align: top;\n",
              "    }\n",
              "\n",
              "    .dataframe thead th {\n",
              "        text-align: right;\n",
              "    }\n",
              "</style>\n",
              "<table border=\"1\" class=\"dataframe\">\n",
              "  <thead>\n",
              "    <tr style=\"text-align: right;\">\n",
              "      <th></th>\n",
              "      <th>toxic</th>\n",
              "      <th>severe_toxic</th>\n",
              "      <th>obscene</th>\n",
              "      <th>threat</th>\n",
              "      <th>insult</th>\n",
              "      <th>identity_hate</th>\n",
              "      <th>sum_injurious</th>\n",
              "    </tr>\n",
              "  </thead>\n",
              "  <tbody>\n",
              "    <tr>\n",
              "      <th>0</th>\n",
              "      <td>0</td>\n",
              "      <td>0</td>\n",
              "      <td>0</td>\n",
              "      <td>0</td>\n",
              "      <td>0</td>\n",
              "      <td>0</td>\n",
              "      <td>0</td>\n",
              "    </tr>\n",
              "    <tr>\n",
              "      <th>1</th>\n",
              "      <td>0</td>\n",
              "      <td>0</td>\n",
              "      <td>0</td>\n",
              "      <td>0</td>\n",
              "      <td>0</td>\n",
              "      <td>0</td>\n",
              "      <td>0</td>\n",
              "    </tr>\n",
              "    <tr>\n",
              "      <th>2</th>\n",
              "      <td>0</td>\n",
              "      <td>0</td>\n",
              "      <td>0</td>\n",
              "      <td>0</td>\n",
              "      <td>0</td>\n",
              "      <td>0</td>\n",
              "      <td>0</td>\n",
              "    </tr>\n",
              "    <tr>\n",
              "      <th>3</th>\n",
              "      <td>0</td>\n",
              "      <td>0</td>\n",
              "      <td>0</td>\n",
              "      <td>0</td>\n",
              "      <td>0</td>\n",
              "      <td>0</td>\n",
              "      <td>0</td>\n",
              "    </tr>\n",
              "    <tr>\n",
              "      <th>4</th>\n",
              "      <td>0</td>\n",
              "      <td>0</td>\n",
              "      <td>0</td>\n",
              "      <td>0</td>\n",
              "      <td>0</td>\n",
              "      <td>0</td>\n",
              "      <td>0</td>\n",
              "    </tr>\n",
              "  </tbody>\n",
              "</table>\n",
              "</div>"
            ],
            "text/plain": [
              "   toxic  severe_toxic  obscene  threat  insult  identity_hate  sum_injurious\n",
              "0      0             0        0       0       0              0              0\n",
              "1      0             0        0       0       0              0              0\n",
              "2      0             0        0       0       0              0              0\n",
              "3      0             0        0       0       0              0              0\n",
              "4      0             0        0       0       0              0              0"
            ]
          },
          "execution_count": 8,
          "metadata": {},
          "output_type": "execute_result"
        },
        {
          "data": {
            "text/plain": [
              "array([0, 4, 1, 3, 2, 5, 6])"
            ]
          },
          "execution_count": 8,
          "metadata": {},
          "output_type": "execute_result"
        }
      ],
      "source": [
        "df = df.drop(columns=['comment_text'])\n",
        "df.head(5)\n",
        "df['sum_injurious'].unique()\n"
      ]
    },
    {
      "cell_type": "code",
      "execution_count": 9,
      "id": "7f155891",
      "metadata": {
        "colab": {
          "base_uri": "https://localhost:8080/",
          "height": 485
        },
        "id": "7f155891",
        "outputId": "5fbdc534-9f4a-4e93-9315-86be6c180718"
      },
      "outputs": [
        {
          "data": {
            "image/png": "[encoded data removed]",
            "text/plain": [
              "<Figure size 800x500 with 1 Axes>"
            ]
          },
          "metadata": {},
          "output_type": "display_data"
        }
      ],
      "source": [
        "col_names = np.sort(df['sum_injurious'].unique())\n",
        "comments_per_injurious = df['sum_injurious'].value_counts()\n",
        "\n",
        "pl.plot_bar(col_names, comments_per_injurious, title='Injurious severity in comments', \\\n",
        "         xlabel='Injurious sum per single comment', ylabel='Number of comments', color='skyblue', \\\n",
        "            xticks_settings={'fontsize':8}, yticks_settings={'fontsize':8})"
      ]
    },
    {
      "cell_type": "code",
      "execution_count": 10,
      "id": "e0b497c4",
      "metadata": {
        "colab": {
          "base_uri": "https://localhost:8080/"
        },
        "id": "e0b497c4",
        "outputId": "dad180e8-9a04-401f-f0e3-341f61537f8b"
      },
      "outputs": [
        {
          "data": {
            "text/plain": [
              "none             143346\n",
              "toxic             15294\n",
              "obscene            8449\n",
              "insult             7877\n",
              "severe_toxic       1595\n",
              "identity_hate      1405\n",
              "threat              478\n",
              "dtype: int64"
            ]
          },
          "execution_count": 10,
          "metadata": {},
          "output_type": "execute_result"
        }
      ],
      "source": [
        "injurious = df.drop(columns=['sum_injurious'])\n",
        "non_injurious = pd.Series(data=comments_per_injurious[0], index=[\"none\"])\n",
        "injurious_type_sum = pd.concat([injurious.sum(axis=0), non_injurious]).sort_values(ascending=False)\n",
        "injurious_type_sum"
      ]
    },
    {
      "cell_type": "code",
      "execution_count": 11,
      "id": "2f3770e2",
      "metadata": {
        "colab": {
          "base_uri": "https://localhost:8080/",
          "height": 542
        },
        "id": "2f3770e2",
        "outputId": "8d314af4-c2dd-4e61-ae9a-be4ceacd6027"
      },
      "outputs": [
        {
          "data": {
            "image/png": "[encoded data removed]",
            "text/plain": [
              "<Figure size 800x500 with 1 Axes>"
            ]
          },
          "metadata": {},
          "output_type": "display_data"
        }
      ],
      "source": [
        "pl.plot_bar(injurious_type_sum.index, injurious_type_sum, title='Injurious types in comments', \\\n",
        "         xlabel='Injurious type', ylabel='Number of comments', color='indianred', \\\n",
        "            xticks_settings={'rotation':45, 'fontsize':9}, yticks_settings={'fontsize':9})"
      ]
    },
    {
      "cell_type": "code",
      "execution_count": 12,
      "id": "ed609cf2",
      "metadata": {
        "colab": {
          "base_uri": "https://localhost:8080/",
          "height": 593
        },
        "id": "ed609cf2",
        "outputId": "d5cd9afa-e960-4a47-82c1-7c20375f1297"
      },
      "outputs": [
        {
          "data": {
            "image/png": "[encoded data removed]",
            "text/plain": [
              "<Figure size 1500x1000 with 6 Axes>"
            ]
          },
          "metadata": {},
          "output_type": "display_data"
        }
      ],
      "source": [
        "pl.plot_stats(dataframe=df, categories=injurious.columns, data=preprocessed_text)"
      ]
    },
    {
      "cell_type": "code",
      "execution_count": 13,
      "id": "5ce6c88b",
      "metadata": {
        "colab": {
          "base_uri": "https://localhost:8080/",
          "height": 363
        },
        "id": "5ce6c88b",
        "outputId": "4892ae1c-cd63-47e9-af08-3eef29ef98d4"
      },
      "outputs": [
        {
          "data": {
            "text/html": [
              "<div>\n",
              "<style scoped>\n",
              "    .dataframe tbody tr th:only-of-type {\n",
              "        vertical-align: middle;\n",
              "    }\n",
              "\n",
              "    .dataframe tbody tr th {\n",
              "        vertical-align: top;\n",
              "    }\n",
              "\n",
              "    .dataframe thead th {\n",
              "        text-align: right;\n",
              "    }\n",
              "</style>\n",
              "<table border=\"1\" class=\"dataframe\">\n",
              "  <thead>\n",
              "    <tr style=\"text-align: right;\">\n",
              "      <th></th>\n",
              "      <th>toxic</th>\n",
              "      <th>severe_toxic</th>\n",
              "      <th>obscene</th>\n",
              "      <th>threat</th>\n",
              "      <th>insult</th>\n",
              "      <th>identity_hate</th>\n",
              "    </tr>\n",
              "  </thead>\n",
              "  <tbody>\n",
              "    <tr>\n",
              "      <th>0</th>\n",
              "      <td>0</td>\n",
              "      <td>0</td>\n",
              "      <td>0</td>\n",
              "      <td>0</td>\n",
              "      <td>0</td>\n",
              "      <td>0</td>\n",
              "    </tr>\n",
              "    <tr>\n",
              "      <th>1</th>\n",
              "      <td>0</td>\n",
              "      <td>0</td>\n",
              "      <td>0</td>\n",
              "      <td>0</td>\n",
              "      <td>0</td>\n",
              "      <td>0</td>\n",
              "    </tr>\n",
              "    <tr>\n",
              "      <th>2</th>\n",
              "      <td>0</td>\n",
              "      <td>0</td>\n",
              "      <td>0</td>\n",
              "      <td>0</td>\n",
              "      <td>0</td>\n",
              "      <td>0</td>\n",
              "    </tr>\n",
              "    <tr>\n",
              "      <th>3</th>\n",
              "      <td>0</td>\n",
              "      <td>0</td>\n",
              "      <td>0</td>\n",
              "      <td>0</td>\n",
              "      <td>0</td>\n",
              "      <td>0</td>\n",
              "    </tr>\n",
              "    <tr>\n",
              "      <th>4</th>\n",
              "      <td>0</td>\n",
              "      <td>0</td>\n",
              "      <td>0</td>\n",
              "      <td>0</td>\n",
              "      <td>0</td>\n",
              "      <td>0</td>\n",
              "    </tr>\n",
              "    <tr>\n",
              "      <th>5</th>\n",
              "      <td>0</td>\n",
              "      <td>0</td>\n",
              "      <td>0</td>\n",
              "      <td>0</td>\n",
              "      <td>0</td>\n",
              "      <td>0</td>\n",
              "    </tr>\n",
              "    <tr>\n",
              "      <th>6</th>\n",
              "      <td>1</td>\n",
              "      <td>1</td>\n",
              "      <td>1</td>\n",
              "      <td>0</td>\n",
              "      <td>1</td>\n",
              "      <td>0</td>\n",
              "    </tr>\n",
              "    <tr>\n",
              "      <th>7</th>\n",
              "      <td>0</td>\n",
              "      <td>0</td>\n",
              "      <td>0</td>\n",
              "      <td>0</td>\n",
              "      <td>0</td>\n",
              "      <td>0</td>\n",
              "    </tr>\n",
              "    <tr>\n",
              "      <th>8</th>\n",
              "      <td>0</td>\n",
              "      <td>0</td>\n",
              "      <td>0</td>\n",
              "      <td>0</td>\n",
              "      <td>0</td>\n",
              "      <td>0</td>\n",
              "    </tr>\n",
              "    <tr>\n",
              "      <th>9</th>\n",
              "      <td>0</td>\n",
              "      <td>0</td>\n",
              "      <td>0</td>\n",
              "      <td>0</td>\n",
              "      <td>0</td>\n",
              "      <td>0</td>\n",
              "    </tr>\n",
              "  </tbody>\n",
              "</table>\n",
              "</div>"
            ],
            "text/plain": [
              "   toxic  severe_toxic  obscene  threat  insult  identity_hate\n",
              "0      0             0        0       0       0              0\n",
              "1      0             0        0       0       0              0\n",
              "2      0             0        0       0       0              0\n",
              "3      0             0        0       0       0              0\n",
              "4      0             0        0       0       0              0\n",
              "5      0             0        0       0       0              0\n",
              "6      1             1        1       0       1              0\n",
              "7      0             0        0       0       0              0\n",
              "8      0             0        0       0       0              0\n",
              "9      0             0        0       0       0              0"
            ]
          },
          "execution_count": 13,
          "metadata": {},
          "output_type": "execute_result"
        }
      ],
      "source": [
        "injurious[0:10]"
      ]
    },
    {
      "cell_type": "code",
      "execution_count": 14,
      "id": "1d6764d1",
      "metadata": {
        "colab": {
          "base_uri": "https://localhost:8080/"
        },
        "id": "1d6764d1",
        "outputId": "164b1183-1d26-40a1-815c-da4a37e7a4fd"
      },
      "outputs": [
        {
          "data": {
            "text/plain": [
              "['writing biographies want create biography please first read blp follow guidance put front name way removed per guidelines read see wikipedia article wizard advises bit editing first',\n",
              " 'asking already initiated another sock puppet investigation please wait verdict way proves hound orchestrated total attack wiki personality purpose eliminating wiki opinion latest dispute article albania alexikoua remove sourced consensual material cia world fact book official housing census united nations confirm already proven rows meat alexikoua addition noticed unethical act user alexikoua forward admin opinion comment removed talk page demonstrated purpose changing artificially established consensus denied alexikoua know yet wiki definition sure get trying say days block verdict account',\n",
              " 'checked pome indeed right legend fate amrod telufinwë one burned ships amras pityafinwë ambarussa survived presumably still died third kinslaying follow pome strictly curufin fëanor fourth son caranthir fifth']"
            ]
          },
          "execution_count": 14,
          "metadata": {},
          "output_type": "execute_result"
        },
        {
          "data": {
            "text/plain": [
              "array([[0, 0, 0, 0, 0, 0],\n",
              "       [0, 0, 0, 0, 0, 0],\n",
              "       [0, 0, 0, 0, 0, 0]])"
            ]
          },
          "execution_count": 14,
          "metadata": {},
          "output_type": "execute_result"
        }
      ],
      "source": [
        "def train_test_val_split(data, labels=None, test_size=0.2, val_size=0.1, random_state=42):\n",
        "    if labels is None:\n",
        "        data, labels = data\n",
        "    corpus, X_test, train_labels, y_test = train_test_split(data, labels, test_size=test_size, random_state=random_state)\n",
        "    X_train, X_val, y_train, y_val = train_test_split(corpus, train_labels, test_size=val_size/(1-test_size), random_state=random_state)\n",
        "    y_train = np.array(y_train)\n",
        "    y_test = np.array(y_test)\n",
        "    y_val = np.array(y_val)\n",
        "\n",
        "    return X_train.astype(str).tolist(), X_test.astype(str).tolist(), X_val.astype(str).tolist(), y_train, y_test, y_val\n",
        "\n",
        "X_train, X_test, X_val, y_train, y_test, y_val = train_test_val_split(preprocessed_text, labels=injurious, test_size=0.3, val_size=0.3)\n",
        "\n",
        "\n",
        "X_train[0:3]\n",
        "y_train[0:3]"
      ]
    },
    {
      "cell_type": "code",
      "execution_count": 15,
      "id": "b8951ee4",
      "metadata": {
        "colab": {
          "base_uri": "https://localhost:8080/"
        },
        "id": "b8951ee4",
        "outputId": "23b72870-3833-4335-bfa8-7588f22651db"
      },
      "outputs": [
        {
          "data": {
            "text/plain": [
              "list"
            ]
          },
          "execution_count": 15,
          "metadata": {},
          "output_type": "execute_result"
        },
        {
          "data": {
            "text/plain": [
              "OrderedDict([('writing', 933),\n",
              "             ('biographies', 331),\n",
              "             ('want', 4648),\n",
              "             ('create', 1096),\n",
              "             ('biography', 296),\n",
              "             ('please', 11964),\n",
              "             ('first', 4370),\n",
              "             ('read', 3263),\n",
              "             ('blp', 282),\n",
              "             ('follow', 639),\n",
              "             ('guidance', 86),\n",
              "             ('put', 2474),\n",
              "             ('front', 283),\n",
              "             ('name', 4426),\n",
              "             ('way', 4442),\n",
              "             ('removed', 2632),\n",
              "             ('per', 977),\n",
              "             ('guidelines', 1313),\n",
              "             ('see', 8559),\n",
              "             ('wikipedia', 17657),\n",
              "             ('article', 22694),\n",
              "             ('wizard', 139),\n",
              "             ('advises', 9),\n",
              "             ('bit', 1316),\n",
              "             ('editing', 3873),\n",
              "             ('asking', 486),\n",
              "             ('already', 2164),\n",
              "             ('initiated', 47),\n",
              "             ('another', 2622),\n",
              "             ('sock', 477),\n",
              "             ('puppet', 169),\n",
              "             ('investigation', 180),\n",
              "             ('wait', 455),\n",
              "             ('verdict', 29),\n",
              "             ('proves', 131),\n",
              "             ('hound', 17),\n",
              "             ('orchestrated', 4),\n",
              "             ('total', 380),\n",
              "             ('attack', 1172),\n",
              "             ('wiki', 2035),\n",
              "             ('personality', 96),\n",
              "             ('purpose', 425),\n",
              "             ('eliminating', 22),\n",
              "             ('opinion', 1557),\n",
              "             ('latest', 232),\n",
              "             ('dispute', 747),\n",
              "             ('albania', 68),\n",
              "             ('alexikoua', 15),\n",
              "             ('remove', 2137),\n",
              "             ('sourced', 590),\n",
              "             ('consensual', 10),\n",
              "             ('material', 1416),\n",
              "             ('cia', 85),\n",
              "             ('world', 1948),\n",
              "             ('fact', 3051),\n",
              "             ('book', 1527),\n",
              "             ('official', 858),\n",
              "             ('housing', 26),\n",
              "             ('census', 140),\n",
              "             ('united', 739),\n",
              "             ('nations', 175),\n",
              "             ('confirm', 295),\n",
              "             ('proven', 220),\n",
              "             ('rows', 8),\n",
              "             ('meat', 76),\n",
              "             ('addition', 603),\n",
              "             ('noticed', 747),\n",
              "             ('unethical', 33),\n",
              "             ('act', 595),\n",
              "             ('user', 5238),\n",
              "             ('forward', 356),\n",
              "             ('admin', 1488),\n",
              "             ('comment', 2425),\n",
              "             ('talk', 13934),\n",
              "             ('page', 18082),\n",
              "             ('demonstrated', 87),\n",
              "             ('changing', 477),\n",
              "             ('artificially', 9),\n",
              "             ('established', 330),\n",
              "             ('consensus', 1643),\n",
              "             ('denied', 97),\n",
              "             ('know', 7488),\n",
              "             ('yet', 1620),\n",
              "             ('definition', 654),\n",
              "             ('sure', 2598),\n",
              "             ('get', 5274),\n",
              "             ('trying', 1953),\n",
              "             ('say', 3995),\n",
              "             ('days', 1085),\n",
              "             ('block', 3247),\n",
              "             ('account', 1547),\n",
              "             ('checked', 273),\n",
              "             ('pome', 2),\n",
              "             ('indeed', 665),\n",
              "             ('right', 3224),\n",
              "             ('legend', 83),\n",
              "             ('fate', 48),\n",
              "             ('amrod', 1),\n",
              "             ('telufinwë', 1),\n",
              "             ('one', 11459),\n",
              "             ('burned', 37),\n",
              "             ('ships', 64),\n",
              "             ('amras', 1),\n",
              "             ('pityafinwë', 1),\n",
              "             ('ambarussa', 1),\n",
              "             ('survived', 39),\n",
              "             ('presumably', 112),\n",
              "             ('still', 3157),\n",
              "             ('died', 272),\n",
              "             ('third', 554),\n",
              "             ('kinslaying', 1),\n",
              "             ('strictly', 92),\n",
              "             ('curufin', 1),\n",
              "             ('fëanor', 1),\n",
              "             ('fourth', 111),\n",
              "             ('son', 280),\n",
              "             ('caranthir', 1),\n",
              "             ('fifth', 41),\n",
              "             ('stop', 2871),\n",
              "             ('continue', 1814),\n",
              "             ('vandalize', 748),\n",
              "             ('pages', 4173),\n",
              "             ('deliberately', 142),\n",
              "             ('introducing', 76),\n",
              "             ('incorrect', 465),\n",
              "             ('information', 4675),\n",
              "             ('blocked', 2899),\n",
              "             ('shared', 318),\n",
              "             ('address', 1244),\n",
              "             ('make', 5127),\n",
              "             ('edit', 7066),\n",
              "             ('consider', 1339),\n",
              "             ('creating', 609),\n",
              "             ('avoid', 609),\n",
              "             ('irrelevant', 452),\n",
              "             ('notices', 135),\n",
              "             ('hmm', 100),\n",
              "             ('appears', 891),\n",
              "             ('somebody', 388),\n",
              "             ('changed', 1019),\n",
              "             ('templates', 416),\n",
              "             ('orientation', 33),\n",
              "             ('different', 1891),\n",
              "             ('vandalism', 2559),\n",
              "             ('much', 3744),\n",
              "             ('back', 3147),\n",
              "             ('dont', 927),\n",
              "             ('like', 11327),\n",
              "             ('gay', 693),\n",
              "             ('three', 1155),\n",
              "             ('races', 62),\n",
              "             ('really', 3750),\n",
              "             ('entry', 835),\n",
              "             ('list', 2999),\n",
              "             ('formula', 70),\n",
              "             ('drivers', 33),\n",
              "             ('tell', 1465),\n",
              "             ('wrong', 2080),\n",
              "             ('thanks', 5425),\n",
              "             ('december', 408),\n",
              "             ('utc', 2813),\n",
              "             ('stylistic', 15),\n",
              "             ('consistency', 106),\n",
              "             ('whatever', 806),\n",
              "             ('prompted', 27),\n",
              "             ('reversion', 103),\n",
              "             ('entire', 714),\n",
              "             ('note', 2648),\n",
              "             ('internal', 127),\n",
              "             ('tend', 191),\n",
              "             ('mystify', 1),\n",
              "             ('anthony', 228),\n",
              "             ('dcu', 2),\n",
              "             ('sandbox', 795),\n",
              "             ('could', 5168),\n",
              "             ('going', 3137),\n",
              "             ('edits', 4068),\n",
              "             ('subject', 2297),\n",
              "             ('thank', 3893),\n",
              "             ('let', 2490),\n",
              "             ('gazed', 1),\n",
              "             ('crystal', 56),\n",
              "             ('ball', 116),\n",
              "             ('jerk', 94),\n",
              "             ('assholes', 52),\n",
              "             ('authority', 329),\n",
              "             ('others', 1933),\n",
              "             ('either', 1651),\n",
              "             ('pseudo', 28),\n",
              "             ('grandmaster', 7),\n",
              "             ('azeri', 41),\n",
              "             ('origin', 284),\n",
              "             ('corrections', 103),\n",
              "             ('antient', 1),\n",
              "             ('city', 769),\n",
              "             ('shusha', 4),\n",
              "             ('founded', 133),\n",
              "             ('panah', 1),\n",
              "             ('khan', 167),\n",
              "             ('century', 386),\n",
              "             ('keep', 2046),\n",
              "             ('vandalizing', 237),\n",
              "             ('stupid', 769),\n",
              "             ('write', 1472),\n",
              "             ('special', 527),\n",
              "             ('letter', 219),\n",
              "             ('accusing', 180),\n",
              "             ('spreading', 59),\n",
              "             ('propaganda', 369),\n",
              "             ('wan', 132),\n",
              "             ('tried', 737),\n",
              "             ('fucking', 1594),\n",
              "             ('idiots', 128),\n",
              "             ('tamper', 4),\n",
              "             ('deletion', 4492),\n",
              "             ('reviews', 256),\n",
              "             ('tampering', 8),\n",
              "             ('made', 3848),\n",
              "             ('personal', 2419),\n",
              "             ('attacks', 946),\n",
              "             ('merely', 428),\n",
              "             ('noted', 392),\n",
              "             ('process', 860),\n",
              "             ('deleted', 3648),\n",
              "             ('perfectly', 259),\n",
              "             ('consistent', 201),\n",
              "             ('review', 1336),\n",
              "             ('number', 1421),\n",
              "             ('goals', 99),\n",
              "             ('wondering', 355),\n",
              "             ('regarding', 1174),\n",
              "             ('brent', 2),\n",
              "             ('harvey', 22),\n",
              "             ('kicked', 42),\n",
              "             ('according', 848),\n",
              "             ('north', 415),\n",
              "             ('melbourne', 23),\n",
              "             ('website', 1390),\n",
              "             ('afl', 17),\n",
              "             ('tables', 130),\n",
              "             ('arvanites', 9),\n",
              "             ('ethnic', 307),\n",
              "             ('albanians', 63),\n",
              "             ('britons', 20),\n",
              "             ('british', 768),\n",
              "             ('albanian', 116),\n",
              "             ('posistion', 1),\n",
              "             ('contradictory', 64),\n",
              "             ('also', 8122),\n",
              "             ('every', 1722),\n",
              "             ('redirect', 1040),\n",
              "             ('paul', 253),\n",
              "             ('added', 2697),\n",
              "             ('following', 1217),\n",
              "             ('fox', 127),\n",
              "             ('controversy', 299),\n",
              "             ('later', 937),\n",
              "             ('stated', 723),\n",
              "             ('sped', 1),\n",
              "             ('video', 591),\n",
              "             ('hey', 1420),\n",
              "             ('imitating', 2),\n",
              "             ('apologized', 41),\n",
              "             ('said', 3012),\n",
              "             ('done', 2535),\n",
              "             ('shaking', 6),\n",
              "             ('moving', 305),\n",
              "             ('purely', 115),\n",
              "             ('notbale', 1),\n",
              "             ('dare', 159),\n",
              "             ('prove', 505),\n",
              "             ('otherwise', 711),\n",
              "             ('revert', 1339),\n",
              "             ('till', 109),\n",
              "             ('day', 1540),\n",
              "             ('die', 340),\n",
              "             ('anybody', 271),\n",
              "             ('try', 1817),\n",
              "             ('erase', 92),\n",
              "             ('yeah', 538),\n",
              "             ('fuck', 3504),\n",
              "             ('fascists', 49),\n",
              "             ('euromaidan', 1),\n",
              "             ('movement', 364),\n",
              "             ('check', 1659),\n",
              "             ('ideology', 88),\n",
              "             ('guides', 42),\n",
              "             ('political', 781),\n",
              "             ('parties', 209),\n",
              "             ('involved', 835),\n",
              "             ('hal', 21),\n",
              "             ('turner', 18),\n",
              "             ('idiot', 362),\n",
              "             ('everything', 885),\n",
              "             ('precvious', 1),\n",
              "             ('saying', 1432),\n",
              "             ('true', 1366),\n",
              "             ('recently', 714),\n",
              "             ('admitted', 104),\n",
              "             ('brutally', 8),\n",
              "             ('beat', 147),\n",
              "             ('hispanic', 59),\n",
              "             ('man', 1121),\n",
              "             ('crossing', 27),\n",
              "             ('house', 458),\n",
              "             ('racist', 344),\n",
              "             ('near', 319),\n",
              "             ('skinhead', 5),\n",
              "             ('protect', 244),\n",
              "             ('nazi', 373),\n",
              "             ('fine', 666),\n",
              "             ('remember', 820),\n",
              "             ('supporting', 245),\n",
              "             ('making', 1820),\n",
              "             ('enabler', 3),\n",
              "             ('hate', 1419),\n",
              "             ('considerate', 13),\n",
              "             ('dynasty', 55),\n",
              "             ('reverts', 315),\n",
              "             ('contribuition', 2),\n",
              "             ('thrue', 3),\n",
              "             ('morroco', 9),\n",
              "             ('http', 2769),\n",
              "             ('moroccan', 7),\n",
              "             ('time', 6070),\n",
              "             ('wrote', 938),\n",
              "             ('resolution', 268),\n",
              "             ('international', 447),\n",
              "             ('court', 407),\n",
              "             ('justice', 195),\n",
              "             ('dynastys', 1),\n",
              "             ('born', 478),\n",
              "             ('communications', 75),\n",
              "             ('decency', 37),\n",
              "             ('june', 458),\n",
              "             ('use', 6470),\n",
              "             ('banhamma', 1),\n",
              "             ('nao', 3),\n",
              "             ('gayboy', 1),\n",
              "             ('wimpy', 5),\n",
              "             ('whiny', 8),\n",
              "             ('hafspajen', 2),\n",
              "             ('love', 903),\n",
              "             ('bracketbot', 10),\n",
              "             ('reappeared', 2),\n",
              "             ('show', 1600),\n",
              "             ('socking', 22),\n",
              "             ('would', 12233),\n",
              "             ('require', 238),\n",
              "             ('refer', 536),\n",
              "             ('dynamic', 59),\n",
              "             ('common', 846),\n",
              "             ('live', 1007),\n",
              "             ('theroadislong', 2),\n",
              "             ('neutrality', 217),\n",
              "             ('point', 3331),\n",
              "             ('unless', 916),\n",
              "             ('many', 3810),\n",
              "             ('creation', 385),\n",
              "             ('myth', 110),\n",
              "             ('mandé', 2),\n",
              "             ('etc', 1405),\n",
              "             ('change', 2032),\n",
              "             ('wording', 345),\n",
              "             ('story', 632),\n",
              "             ('loss', 130),\n",
              "             ('invoking', 11),\n",
              "             ('bias', 608),\n",
              "             ('offensiveness', 6),\n",
              "             ('argument', 757),\n",
              "             ('suspect', 281),\n",
              "             ('problem', 2098),\n",
              "             ('npov', 684),\n",
              "             ('table', 497),\n",
              "             ('christian', 398),\n",
              "             ('equal', 192),\n",
              "             ('taht', 9),\n",
              "             ('respect', 587),\n",
              "             ('may', 6141),\n",
              "             ('disagree', 623),\n",
              "             ('issues', 1121),\n",
              "             ('suggestion', 360),\n",
              "             ('comae', 4),\n",
              "             ('spanish', 394),\n",
              "             ('talking', 781),\n",
              "             ('genealogical', 10),\n",
              "             ('trees', 52),\n",
              "             ('useful', 782),\n",
              "             ('mithology', 1),\n",
              "             ('kings', 76),\n",
              "             ('tolkien', 13),\n",
              "             ('trouble', 335),\n",
              "             ('find', 3550),\n",
              "             ('usable', 34),\n",
              "             ('getting', 1332),\n",
              "             ('links', 2205),\n",
              "             ('tree', 117),\n",
              "             ('used', 3665),\n",
              "             ('html', 54),\n",
              "             ('lists', 420),\n",
              "             ('cut', 292),\n",
              "             ('difficult', 384),\n",
              "             ('correct', 1345),\n",
              "             ('timelines', 8),\n",
              "             ('come', 1819),\n",
              "             ('handy', 36),\n",
              "             ('intuitive', 36),\n",
              "             ('people', 7421),\n",
              "             ('busy', 217),\n",
              "             ('thought', 1453),\n",
              "             ('future', 811),\n",
              "             ('versions', 185),\n",
              "             ('alternative', 284),\n",
              "             ('patience', 82),\n",
              "             ('hope', 2176),\n",
              "             ('understand', 1961),\n",
              "             ('strange', 211),\n",
              "             ('babbling', 6),\n",
              "             ('call', 1096),\n",
              "             ('english', 1592),\n",
              "             ('jun', 217),\n",
              "             ('dai', 6),\n",
              "             ('suspicions', 14),\n",
              "             ('tdsdos', 1),\n",
              "             ('confirmed', 234),\n",
              "             ('think', 8013),\n",
              "             ('verbage', 3),\n",
              "             ('issue', 1891),\n",
              "             ('discussed', 428),\n",
              "             ('nauseam', 4),\n",
              "             ('supposedly', 100),\n",
              "             ('resolved', 163),\n",
              "             ('machinations', 7),\n",
              "             ('editor', 1966),\n",
              "             ('hello', 1579),\n",
              "             ('peoples', 177),\n",
              "             ('ron', 56),\n",
              "             ('tatersalad', 1),\n",
              "             ('white', 663),\n",
              "             ('kind', 1204),\n",
              "             ('suck', 1747),\n",
              "             ('dick', 692),\n",
              "             ('israel', 393),\n",
              "             ('country', 928),\n",
              "             ('modern', 479),\n",
              "             ('times', 1331),\n",
              "             ('nation', 229),\n",
              "             ('state', 1658),\n",
              "             ('scattered', 23),\n",
              "             ('probably', 1749),\n",
              "             ('specific', 941),\n",
              "             ('clear', 1374),\n",
              "             ('jewish', 475),\n",
              "             ('states', 1300),\n",
              "             ('stark', 22),\n",
              "             ('contrast', 75),\n",
              "             ('dozens', 78),\n",
              "             ('arab', 199),\n",
              "             ('instance', 299),\n",
              "             ('nevermind', 39),\n",
              "             ('fixed', 338),\n",
              "             ('niggers', 104),\n",
              "             ('liberal', 179),\n",
              "             ('friends', 426),\n",
              "             ('steal', 67),\n",
              "             ('tied', 45),\n",
              "             ('presidency', 34),\n",
              "             ('acorn', 27),\n",
              "             ('defenders', 10),\n",
              "             ('nigger', 970),\n",
              "             ('obama', 225),\n",
              "             ('history', 2605),\n",
              "             ('humanitarian', 21),\n",
              "             ('intervention', 104),\n",
              "             ('truly', 298),\n",
              "             ('fully', 362),\n",
              "             ('contained', 121),\n",
              "             ('within', 937),\n",
              "             ('writings', 71),\n",
              "             ('john', 597),\n",
              "             ('stuart', 17),\n",
              "             ('mill', 32),\n",
              "             ('makes', 1355),\n",
              "             ('paramount', 11),\n",
              "             ('importance', 368),\n",
              "             ('idea', 1223),\n",
              "             ('answers', 128),\n",
              "             ('provided', 729),\n",
              "             ('majority', 434),\n",
              "             ('discussion', 3597),\n",
              "             ('anyone', 1971),\n",
              "             ('even', 5341),\n",
              "             ('maintaining', 64),\n",
              "             ('replied', 150),\n",
              "             ('msg', 31),\n",
              "             ('matter', 1496),\n",
              "             ('upcoming', 57),\n",
              "             ('election', 220),\n",
              "             ('past', 831),\n",
              "             ('reason', 2435),\n",
              "             ('well', 4507),\n",
              "             ('mos', 175),\n",
              "             ('bulletlist', 1),\n",
              "             ('created', 1563),\n",
              "             ('using', 2464),\n",
              "             ('removing', 1087),\n",
              "             ('warnings', 408),\n",
              "             ('replace', 285),\n",
              "             ('offensive', 322),\n",
              "             ('content', 2811),\n",
              "             ('blanking', 92),\n",
              "             ('blank', 237),\n",
              "             ('lose', 147),\n",
              "             ('privilege', 53),\n",
              "             ('swatjester', 22),\n",
              "             ('ready', 206),\n",
              "             ('aim', 95),\n",
              "             ('fire', 339),\n",
              "             ('add', 3302),\n",
              "             ('comments', 2193),\n",
              "             ('articles', 6644),\n",
              "             ('though', 2076),\n",
              "             ('suggest', 1046),\n",
              "             ('caps', 43),\n",
              "             ('hard', 823),\n",
              "             ('sometimes', 486),\n",
              "             ('considered', 1255),\n",
              "             ('shouting', 25),\n",
              "             ('zebedee', 11),\n",
              "             ('mike', 110),\n",
              "             ('battle', 360),\n",
              "             ('artist', 193),\n",
              "             ('enjoying', 33),\n",
              "             ('creepy', 25),\n",
              "             ('messages', 471),\n",
              "             ('photo', 473),\n",
              "             ('overkill', 18),\n",
              "             ('imho', 73),\n",
              "             ('photos', 313),\n",
              "             ('poor', 423),\n",
              "             ('quality', 528),\n",
              "             ('redundant', 133),\n",
              "             ('lot', 1476),\n",
              "             ('empty', 80),\n",
              "             ('space', 466),\n",
              "             ('fragments', 18),\n",
              "             ('unnecessarily', 33),\n",
              "             ('objects', 86),\n",
              "             ('delete', 1627),\n",
              "             ('got', 1840),\n",
              "             ('laugh', 105),\n",
              "             ('ass', 1887),\n",
              "             ('high', 801),\n",
              "             ('enough', 1574),\n",
              "             ('level', 533),\n",
              "             ('voices', 42),\n",
              "             ('saw', 652),\n",
              "             ('recent', 990),\n",
              "             ('jamie', 19),\n",
              "             ('babbit', 3),\n",
              "             ('reliable', 1797),\n",
              "             ('source', 4097),\n",
              "             ('mentions', 245),\n",
              "             ('death', 654),\n",
              "             ('mother', 547),\n",
              "             ('freak', 55),\n",
              "             ('actions', 612),\n",
              "             ('nothing', 2095),\n",
              "             ('real', 1474),\n",
              "             ('rights', 560),\n",
              "             ('children', 419),\n",
              "             ('hit', 241),\n",
              "             ('teens', 20),\n",
              "             ('compare', 164),\n",
              "             ('gray', 45),\n",
              "             ('hairs', 9),\n",
              "             ('join', 307),\n",
              "             ('wer', 8),\n",
              "             ('good', 4921),\n",
              "             ('friend', 490),\n",
              "             ('correspondence', 19),\n",
              "             ('long', 1850),\n",
              "             ('headline', 53),\n",
              "             ('found', 1698),\n",
              "             ('copied', 256),\n",
              "             ('talkpage', 203),\n",
              "             ('subsequently', 62),\n",
              "             ('czech', 65),\n",
              "             ('speaker', 84),\n",
              "             ('able', 980),\n",
              "             ('although', 1000),\n",
              "             ('borok', 1),\n",
              "             ('means', 1208),\n",
              "             ('chudák', 1),\n",
              "             ('rest', 547),\n",
              "             ('understandable', 52),\n",
              "             ('grandfather', 35),\n",
              "             ('surely', 266),\n",
              "             ('proud', 125),\n",
              "             ('november', 397),\n",
              "             ('hentai', 3),\n",
              "             ('insult', 173),\n",
              "             ('freplyspang', 7),\n",
              "             ('someone', 3258),\n",
              "             ('mostly', 348),\n",
              "             ('solutrean', 5),\n",
              "             ('neutral', 974),\n",
              "             ('cinmar', 1),\n",
              "             ('skeptical', 30),\n",
              "             ('flint', 10),\n",
              "             ('french', 395),\n",
              "             ('originating', 18),\n",
              "             ('proximity', 9),\n",
              "             ('early', 488),\n",
              "             ('american', 1010),\n",
              "             ('european', 280),\n",
              "             ('population', 416),\n",
              "             ('kept', 316),\n",
              "             ('things', 2245),\n",
              "             ('around', 1531),\n",
              "             ('curios', 3),\n",
              "             ('debate', 591),\n",
              "             ('hypothesis', 84),\n",
              "             ('archaic', 19),\n",
              "             ('america', 448),\n",
              "             ('disprove', 28),\n",
              "             ('dude', 232),\n",
              "             ('latinus', 2),\n",
              "             ('job', 627),\n",
              "             ('shit', 1427),\n",
              "             ('moderating', 8),\n",
              "             ('seconds', 121),\n",
              "             ('christ', 145),\n",
              "             ('productive', 93),\n",
              "             ('jacking', 6),\n",
              "             ('congrats', 41),\n",
              "             ('guess', 799),\n",
              "             ('moderator', 43),\n",
              "             ('life', 1509),\n",
              "             ('accomplishment', 13),\n",
              "             ('failure', 154),\n",
              "             ('tool', 216),\n",
              "             ('jew', 1364),\n",
              "             ('appropriate', 997),\n",
              "             ('category', 1101),\n",
              "             ('shall', 364),\n",
              "             ('maybe', 1429),\n",
              "             ('frustrated', 70),\n",
              "             ('seems', 2384),\n",
              "             ('slim', 27),\n",
              "             ('away', 947),\n",
              "             ('abusing', 169),\n",
              "             ('valued', 17),\n",
              "             ('contributors', 317),\n",
              "             ('sandy', 34),\n",
              "             ('else', 1762),\n",
              "             ('supposed', 518),\n",
              "             ('jpgordon', 28),\n",
              "             ('pops', 31),\n",
              "             ('dismiss', 54),\n",
              "             ('honest', 247),\n",
              "             ('concerns', 479),\n",
              "             ('tony', 113),\n",
              "             ('behavior', 528),\n",
              "             ('bad', 1298),\n",
              "             ('clerk', 42),\n",
              "             ('thoughtful', 22),\n",
              "             ('post', 1555),\n",
              "             ('nyb', 6),\n",
              "             ('place', 2444),\n",
              "             ('sad', 307),\n",
              "             ('longer', 601),\n",
              "             ('reign', 48),\n",
              "             ('partisans', 26),\n",
              "             ('abf', 7),\n",
              "             ('told', 664),\n",
              "             ('lar', 5),\n",
              "             ('keeps', 242),\n",
              "             ('bickering', 15),\n",
              "             ('snowing', 3),\n",
              "             ('outside', 452),\n",
              "             ('middle', 337),\n",
              "             ('july', 613),\n",
              "             ('south', 539),\n",
              "             ('carolina', 49),\n",
              "             ('taking', 706),\n",
              "             ('seriously', 593),\n",
              "             ('support', 1468),\n",
              "             ('obvious', 660),\n",
              "             ('disruptive', 511),\n",
              "             ('reinforce', 7),\n",
              "             ('ludicrous', 31),\n",
              "             ('speaks', 114),\n",
              "             ('volums', 1),\n",
              "             ('character', 453),\n",
              "             ('lack', 527),\n",
              "             ('thereof', 34),\n",
              "             ('telling', 331),\n",
              "             ('needed', 703),\n",
              "             ('resign', 22),\n",
              "             ('outrageous', 50),\n",
              "             ('access', 367),\n",
              "             ('chris', 144),\n",
              "             ('houlihan', 1),\n",
              "             ('room', 175),\n",
              "             ('heard', 527),\n",
              "             ('explain', 1027),\n",
              "             ('proper', 560),\n",
              "             ('biased', 611),\n",
              "             ('patches', 12),\n",
              "             ('dlc', 3),\n",
              "             ('section', 4089),\n",
              "             ('line', 915),\n",
              "             ('bethesda', 6),\n",
              "             ('announced', 100),\n",
              "             ('patch', 12),\n",
              "             ('likely', 656),\n",
              "             ('fix', 541),\n",
              "             ('lag', 4),\n",
              "             ('brink', 4),\n",
              "             ('released', 338),\n",
              "             ('momentarily', 7),\n",
              "             ('sources', 4388),\n",
              "             ('conjecture', 22),\n",
              "             ('author', 698),\n",
              "             ('additionally', 151),\n",
              "             ('comes', 596),\n",
              "             ('across', 418),\n",
              "             ('grammatically', 23),\n",
              "             ('awkward', 44),\n",
              "             ('result', 650),\n",
              "             ('undone', 54),\n",
              "             ('included', 1018),\n",
              "             ('goodwin', 2),\n",
              "             ('obviously', 826),\n",
              "             ('accounts', 412),\n",
              "             ('boarding', 10),\n",
              "             ('college', 391),\n",
              "             ('trademark', 30),\n",
              "             ('violations', 178),\n",
              "             ('trademarked', 6),\n",
              "             ('copywritten', 3),\n",
              "             ('stands', 227),\n",
              "             ('nowhere', 139),\n",
              "             ('violating', 168),\n",
              "             ('fair', 1759),\n",
              "             ('usage', 349),\n",
              "             ('characters', 340),\n",
              "             ('important', 1420),\n",
              "             ('clarity', 68),\n",
              "             ('since', 3495),\n",
              "             ('describe', 367),\n",
              "             ('limit', 126),\n",
              "             ('description', 672),\n",
              "             ('redundancy', 16),\n",
              "             ('littered', 10),\n",
              "             ('errors', 254),\n",
              "             ('harding', 3),\n",
              "             ('repressed', 7),\n",
              "             ('homosexual', 107),\n",
              "             ('active', 359),\n",
              "             ('sorensen', 2),\n",
              "             ('revealed', 59),\n",
              "             ('boat', 48),\n",
              "             ('veteran', 20),\n",
              "             ('idlers', 2),\n",
              "             ('dock', 3),\n",
              "             ('fishing', 18),\n",
              "             ('trip', 117),\n",
              "             ('rpm', 10),\n",
              "             ('talks', 126),\n",
              "             ('along', 698),\n",
              "             ('finds', 86),\n",
              "             ('run', 481),\n",
              "             ('commercial', 203),\n",
              "             ('trawler', 2),\n",
              "             ('feet', 91),\n",
              "             ('drew', 36),\n",
              "             ('oak', 25),\n",
              "             ('teak', 1),\n",
              "             ('chief', 131),\n",
              "             ('lifts', 3),\n",
              "             ('control', 429),\n",
              "             ('panel', 47),\n",
              "             ('twice', 214),\n",
              "             ('win', 217),\n",
              "             ('bet', 165),\n",
              "             ('fullfill', 2),\n",
              "             ('agreement', 200),\n",
              "             ('promised', 32),\n",
              "             ('build', 195),\n",
              "             ('big', 973),\n",
              "             ('powerfull', 2),\n",
              "             ('major', 766),\n",
              "             ('element', 85),\n",
              "             ('plot', 241),\n",
              "             ('summary', 1041),\n",
              "             ('omits', 9),\n",
              "             ('prison', 104),\n",
              "             ('breaks', 77),\n",
              "             ('locked', 120),\n",
              "             ('cough', 10),\n",
              "             ('syrup', 3),\n",
              "             ('mix', 69),\n",
              "             ('vodka', 9),\n",
              "             ('cheap', 44),\n",
              "             ('sherry', 3),\n",
              "             ('smuggled', 3),\n",
              "             ('candy', 23),\n",
              "             ('punch', 38),\n",
              "             ('turkle', 1),\n",
              "             ('help', 3994),\n",
              "             ('work', 3548),\n",
              "             ('together', 601),\n",
              "             ('paperclips', 3),\n",
              "             ('pick', 143),\n",
              "             ('lock', 75),\n",
              "             ('diff', 394),\n",
              "             ('appear', 682),\n",
              "             ('constructive', 305),\n",
              "             ('reverted', 1484),\n",
              "             ('experiment', 358),\n",
              "             ('nationalism', 109),\n",
              "             ('needs', 1467),\n",
              "             ('bnp', 58),\n",
              "             ('nationalists', 44),\n",
              "             ('years', 1864),\n",
              "             ('nick', 104),\n",
              "             ('griffin', 32),\n",
              "             ('modernised', 3),\n",
              "             ('party', 779),\n",
              "             ('main', 1130),\n",
              "             ('searchlight', 5),\n",
              "             ('uaf', 7),\n",
              "             ('mainstream', 233),\n",
              "             ('newspapers', 117),\n",
              "             ('guardian', 70),\n",
              "             ('politics', 218),\n",
              "             ('books', 733),\n",
              "             ('offical', 37),\n",
              "             ('manifestos', 3),\n",
              "             ('bbc', 153),\n",
              "             ('interviews', 79),\n",
              "             ('national', 766),\n",
              "             ('moderate', 18),\n",
              "             ('indigenism', 2),\n",
              "             ('espouses', 5),\n",
              "             ('based', 1178),\n",
              "             ('concern', 302),\n",
              "             ('scottish', 67),\n",
              "             ('welsh', 78),\n",
              "             ('irish', 266),\n",
              "             ('compose', 13),\n",
              "             ('kingdom', 251),\n",
              "             ('language', 1396),\n",
              "             ('concepts', 94),\n",
              "             ('discipline', 42),\n",
              "             ('manual', 519),\n",
              "             ('policy', 2134),\n",
              "             ('research', 1313),\n",
              "             ('updated', 286),\n",
              "             ('april', 447),\n",
              "             ('racial', 125),\n",
              "             ('nationalist', 128),\n",
              "             ('proclaims', 6),\n",
              "             ('posted', 825),\n",
              "             ('distinction', 143),\n",
              "             ('clarified', 64),\n",
              "             ('folk', 73),\n",
              "             ('underpinning', 4),\n",
              "             ('ethnostate', 1),\n",
              "             ('booklet', 8),\n",
              "             ('arthur', 76),\n",
              "             ('kemp', 2),\n",
              "             ('ostara', 2),\n",
              "             ('publications', 146),\n",
              "             ('contains', 233),\n",
              "             ('chapters', 46),\n",
              "             ('opposed', 217),\n",
              "             ('stance', 91),\n",
              "             ('central', 277),\n",
              "             ('tenets', 10),\n",
              "             ('underlying', 50),\n",
              "             ('implications', 55),\n",
              "             ('practical', 72),\n",
              "             ('application', 118),\n",
              "             ('argue', 337),\n",
              "             ('case', 2481),\n",
              "             ('however', 2476),\n",
              "             ('explicitly', 176),\n",
              "             ('goodbye', 91),\n",
              "             ('britain', 175),\n",
              "             ('friday', 86),\n",
              "             ('reject', 76),\n",
              "             ('strongly', 265),\n",
              "             ('oppose', 245),\n",
              "             ('immigration', 34),\n",
              "             ('whites', 55),\n",
              "             ('eastern', 172),\n",
              "             ('europeans', 51),\n",
              "             ('global', 242),\n",
              "             ('encyclopaedia', 112),\n",
              "             ('geography', 62),\n",
              "             ('chaudhary', 2),\n",
              "             ('gautam', 2),\n",
              "             ('vision', 69),\n",
              "             ('publishing', 123),\n",
              "             ('example', 1559),\n",
              "             ('notes', 316),\n",
              "             ('conversely', 12),\n",
              "             ('europe', 309),\n",
              "             ('normally', 177),\n",
              "             ('indicates', 125),\n",
              "             ('variant', 47),\n",
              "             ('existing', 490),\n",
              "             ('opposes', 29),\n",
              "             ('russians', 46),\n",
              "             ('poles', 33),\n",
              "             ('final', 433),\n",
              "             ('sidenote', 4),\n",
              "             ('deal', 615),\n",
              "             ('irrationality', 7),\n",
              "             ('unwilling', 47),\n",
              "             ('accept', 544),\n",
              "             ('legitimate', 314),\n",
              "             ('doublethink', 2),\n",
              "             ('practices', 84),\n",
              "             ('necessary', 565),\n",
              "             ('rationale', 487),\n",
              "             ('context', 648),\n",
              "             ('hell', 524),\n",
              "             ('savannah', 4),\n",
              "             ('hoard', 3),\n",
              "             ('screw', 71),\n",
              "             ('mean', 1785),\n",
              "             ('gon', 275),\n",
              "             ('fat', 1700),\n",
              "             ('self', 314),\n",
              "             ('year', 1236),\n",
              "             ('old', 1538),\n",
              "             ('bitch', 543),\n",
              "             ('goes', 577),\n",
              "             ('deleting', 741),\n",
              "             ('disgust', 20),\n",
              "             ('kick', 59),\n",
              "             ('dorky', 3),\n",
              "             ('ever', 1397),\n",
              "             ('thing', 2182),\n",
              "             ('yourselfand', 1),\n",
              "             ('sex', 302),\n",
              "             ('seashell', 32),\n",
              "             ('never', 2483),\n",
              "             ('gettin', 3),\n",
              "             ('girl', 193),\n",
              "             ('fattard', 2),\n",
              "             ('lardo', 3),\n",
              "             ('virgin', 56),\n",
              "             ('birgin', 1),\n",
              "             ('dis', 19),\n",
              "             ('better', 2430),\n",
              "             ('mess', 231),\n",
              "             ('wit', 48),\n",
              "             ('ankakalari', 3),\n",
              "             ('proposed', 659),\n",
              "             ('template', 1408),\n",
              "             ('suggesting', 225),\n",
              "             ('contributions', 1495),\n",
              "             ('appreciated', 328),\n",
              "             ('satisfy', 147),\n",
              "             ('criteria', 1380),\n",
              "             ('inclusion', 447),\n",
              "             ('notice', 1273),\n",
              "             ('prevent', 323),\n",
              "             ('improving', 283),\n",
              "             ('raised', 274),\n",
              "             ('matches', 135),\n",
              "             ('speedy', 2037),\n",
              "             ('sent', 397),\n",
              "             ('reached', 255),\n",
              "             ('agree', 1869),\n",
              "             ('person', 2478),\n",
              "             ('substantial', 154),\n",
              "             ('top', 1570),\n",
              "             ('defendu', 3),\n",
              "             ('defendo', 4),\n",
              "             ('rather', 1836),\n",
              "             ('fairbairn', 5),\n",
              "             ('underwood', 18),\n",
              "             ('inherited', 22),\n",
              "             ('systems', 200),\n",
              "             ('bill', 185),\n",
              "             ('redirects', 178),\n",
              "             ('sems', 1),\n",
              "             ('certain', 736),\n",
              "             ('interest', 981),\n",
              "             ('wants', 450),\n",
              "             ('rid', 147),\n",
              "             ('completely', 849),\n",
              "             ('always', 1412),\n",
              "             ('understood', 188),\n",
              "             ...])"
            ]
          },
          "execution_count": 15,
          "metadata": {},
          "output_type": "execute_result"
        }
      ],
      "source": [
        "type(X_train)\n",
        "\n",
        "tokenizer = Tokenizer(num_words=1000)\n",
        "tokenizer.fit_on_texts(X_train)\n",
        "tokenizer.word_counts"
      ]
    },
    {
      "cell_type": "code",
      "execution_count": 16,
      "id": "d970e4f7",
      "metadata": {
        "colab": {
          "base_uri": "https://localhost:8080/"
        },
        "id": "d970e4f7",
        "outputId": "c979e545-c593-4e14-d467-0497659aa5b8"
      },
      "outputs": [
        {
          "name": "stdout",
          "output_type": "stream",
          "text": [
            "Vocabulary size:  92361\n"
          ]
        }
      ],
      "source": [
        "X_train = tokenizer.texts_to_sequences(X_train)\n",
        "X_test  = tokenizer.texts_to_sequences(X_test)\n",
        "X_val   = tokenizer.texts_to_sequences(X_val)\n",
        "\n",
        "vocab_size = len(tokenizer.word_index) + 1\n",
        "print(\"Vocabulary size: \", vocab_size)"
      ]
    },
    {
      "cell_type": "code",
      "execution_count": 17,
      "id": "1e212c16",
      "metadata": {
        "colab": {
          "base_uri": "https://localhost:8080/"
        },
        "id": "1e212c16",
        "outputId": "f3bae83b-30c5-4de9-d6cc-57b91205bc4a"
      },
      "outputs": [
        {
          "data": {
            "text/plain": [
              "[364,\n",
              " 27,\n",
              " 304,\n",
              " 6,\n",
              " 33,\n",
              " 59,\n",
              " 555,\n",
              " 95,\n",
              " 31,\n",
              " 30,\n",
              " 83,\n",
              " 340,\n",
              " 261,\n",
              " 59,\n",
              " 9,\n",
              " 3,\n",
              " 1,\n",
              " 260,\n",
              " 44,\n",
              " 33]"
            ]
          },
          "execution_count": 17,
          "metadata": {},
          "output_type": "execute_result"
        }
      ],
      "source": [
        "X_train[0]"
      ]
    },
    {
      "cell_type": "code",
      "execution_count": 18,
      "id": "5ea0031b",
      "metadata": {
        "colab": {
          "base_uri": "https://localhost:8080/"
        },
        "id": "5ea0031b",
        "outputId": "fcea9a3f-8c53-446f-9cef-0ebdcdcb94df"
      },
      "outputs": [
        {
          "data": {
            "text/plain": [
              "array([[364,  27, 304, ...,   0,   0,   0],\n",
              "       [713, 117,  84, ...,   0,   0,   0],\n",
              "       [524,  62,   7, ...,   0,   0,   0],\n",
              "       [  6,  75, 153, ...,   0,   0,   0],\n",
              "       [389, 900, 325, ...,   0,   0,   0]], dtype=int32)"
            ]
          },
          "execution_count": 18,
          "metadata": {},
          "output_type": "execute_result"
        },
        {
          "data": {
            "text/plain": [
              "(63828, 1250)"
            ]
          },
          "execution_count": 18,
          "metadata": {},
          "output_type": "execute_result"
        },
        {
          "data": {
            "text/plain": [
              "(63828, 6)"
            ]
          },
          "execution_count": 18,
          "metadata": {},
          "output_type": "execute_result"
        }
      ],
      "source": [
        "maxlen = len(max(X_train, key=len))\n",
        "X_train = pad_sequences(X_train, padding='post', maxlen=maxlen)\n",
        "X_test = pad_sequences(X_test, padding='post', maxlen=maxlen)\n",
        "X_val = pad_sequences(X_val, padding='post', maxlen=maxlen)\n",
        "\n",
        "X_train[0:5]\n",
        "X_train.shape\n",
        "y_train.shape"
      ]
    },
    {
      "cell_type": "code",
      "execution_count": 19,
      "id": "20442209",
      "metadata": {},
      "outputs": [],
      "source": [
        "def build_model(name, model, models_dir, optmizer='adam', loss='binary_crossentropy', metrics=['accuracy']):\n",
        "  fit = False\n",
        "  if name in os.listdir(models_dir):\n",
        "    answer = str(input(f\"Found Keras model {name}. Do you want to subscribe it? y/N\"))\n",
        "    if answer.lower() == 'y' or answer == 'yes':\n",
        "      model.compile(optimizer=optmizer, loss=loss, metrics=metrics)\n",
        "      fit = True\n",
        "    else:\n",
        "      model = load_model(models_dir+'/'+name)\n",
        "  else:\n",
        "    model.compile(optimizer=optmizer, loss=loss, metrics=metrics)\n",
        "    fit = True\n",
        "  return model, fit"
      ]
    },
    {
      "cell_type": "code",
      "execution_count": 20,
      "id": "988fbe39",
      "metadata": {
        "id": "988fbe39"
      },
      "outputs": [],
      "source": [
        "def convert_probability_to_value(arr:np.array, threshold=.5):\n",
        "    for i in range(len(arr)):\n",
        "        for j in range(len(arr[i])):\n",
        "            arr[i][j] = 1 if arr[i][j] > threshold else 0\n",
        "    return arr"
      ]
    },
    {
      "cell_type": "code",
      "execution_count": 21,
      "id": "7207590a",
      "metadata": {
        "colab": {
          "base_uri": "https://localhost:8080/"
        },
        "id": "7207590a",
        "outputId": "51dc4029-ac85-42d2-da75-88571916c569"
      },
      "outputs": [
        {
          "name": "stdout",
          "output_type": "stream",
          "text": [
            "Model: \"sequential\"\n",
            "_________________________________________________________________\n",
            " Layer (type)                Output Shape              Param #   \n",
            "=================================================================\n",
            " embedding (Embedding)       (None, 1250, 150)         13854150  \n",
            "                                                                 \n",
            " dropout (Dropout)           (None, 1250, 150)         0         \n",
            "                                                                 \n",
            " lstm (LSTM)                 (None, 1250, 50)          40200     \n",
            "                                                                 \n",
            " global_max_pooling1d (Glob  (None, 50)                0         \n",
            " alMaxPooling1D)                                                 \n",
            "                                                                 \n",
            " dropout_1 (Dropout)         (None, 50)                0         \n",
            "                                                                 \n",
            " dense (Dense)               (None, 6)                 306       \n",
            "                                                                 \n",
            "=================================================================\n",
            "Total params: 13894656 (53.00 MB)\n",
            "Trainable params: 13894656 (53.00 MB)\n",
            "Non-trainable params: 0 (0.00 Byte)\n",
            "_________________________________________________________________\n"
          ]
        }
      ],
      "source": [
        "clear_session()\n",
        "early_stopping = EarlyStopping()\n",
        "batch_log = md.BatchLogger()\n",
        "\n",
        "lstm_model_history=\"base_LSTM.plk\"\n",
        "lstm_model_name = \"LSTM_model.keras\"\n",
        "fit = False\n",
        "\n",
        "lstm_model = LSTM_model(vocab_size, maxlen, dense_units=len(y_train[0]), activation='sigmoid')\n",
        "\n",
        "lstm_model, fit = build_model(\n",
        "   lstm_model_name,\n",
        "   lstm_model,\n",
        "   models_dir,\n",
        "   optmizer='adam',\n",
        "   loss='binary_crossentropy',\n",
        "   metrics=['accuracy']\n",
        ")\n",
        "\n",
        "lstm_model.summary()"
      ]
    },
    {
      "cell_type": "code",
      "execution_count": 22,
      "id": "fb47826b",
      "metadata": {
        "id": "fb47826b"
      },
      "outputs": [],
      "source": [
        "if fit:\n",
        "    lstm_history = lstm_model.fit(X_train, y_train,\n",
        "                        epochs=10, batch_size=32,\n",
        "                        validation_data=(X_val, y_val),\n",
        "                        callbacks=[early_stopping, batch_log])    \n",
        "    pickle.dump(lstm_history, open(storage_folder+\"/\"+lstm_model_history, 'wb'))\n",
        "    if COLAB:\n",
        "        lstm_model.save(\"./models/\"+lstm_model_name)\n",
        "    else:\n",
        "        lstm_model.save(\"../models/\"+lstm_model_name)\n",
        "else:\n",
        "      lstm_history = pickle.load(open(storage_folder+\"/\"+lstm_model_history, 'rb'))\n"
      ]
    },
    {
      "cell_type": "code",
      "execution_count": 23,
      "id": "NsRPO6-TTjTU",
      "metadata": {
        "colab": {
          "base_uri": "https://localhost:8080/"
        },
        "id": "NsRPO6-TTjTU",
        "outputId": "197be8c5-55ed-4137-e119-d685d355eaf6"
      },
      "outputs": [
        {
          "data": {
            "text/plain": [
              "{'loss': [0.09548269212245941,\n",
              "  0.07005573064088821,\n",
              "  0.0674758031964302,\n",
              "  0.06605624407529831,\n",
              "  0.06520243734121323,\n",
              "  0.06388472020626068],\n",
              " 'accuracy': [0.8623487949371338,\n",
              "  0.9761859774589539,\n",
              "  0.986197292804718,\n",
              "  0.9922291040420532,\n",
              "  0.9917277693748474,\n",
              "  0.9891896843910217],\n",
              " 'val_loss': [0.06846930086612701,\n",
              "  0.06728322803974152,\n",
              "  0.06747417151927948,\n",
              "  0.06594712287187576,\n",
              "  0.06630312651395798,\n",
              "  0.06677651405334473],\n",
              " 'val_accuracy': [0.9938167333602905,\n",
              "  0.9938167333602905,\n",
              "  0.9938167333602905,\n",
              "  0.9938167333602905,\n",
              "  0.9938167333602905,\n",
              "  0.9936286807060242]}"
            ]
          },
          "execution_count": 23,
          "metadata": {},
          "output_type": "execute_result"
        }
      ],
      "source": [
        "lstm_history.history"
      ]
    },
    {
      "cell_type": "code",
      "execution_count": 24,
      "id": "7976c957",
      "metadata": {
        "colab": {
          "base_uri": "https://localhost:8080/"
        },
        "id": "7976c957",
        "outputId": "aa2b413c-021e-494d-c0f3-acda09b1522e"
      },
      "outputs": [
        {
          "name": "stdout",
          "output_type": "stream",
          "text": [
            "1496/1496 [==============================] - 158s 105ms/step\n"
          ]
        }
      ],
      "source": [
        "y_pred = convert_probability_to_value(lstm_model.predict(X_test))\n"
      ]
    },
    {
      "cell_type": "code",
      "execution_count": 25,
      "id": "d9b659ae",
      "metadata": {
        "colab": {
          "base_uri": "https://localhost:8080/",
          "height": 529
        },
        "id": "d9b659ae",
        "outputId": "e52e9991-7b05-4788-f0a3-71ecaceadf7f"
      },
      "outputs": [
        {
          "name": "stdout",
          "output_type": "stream",
          "text": [
            "Index(['toxic', 'severe_toxic', 'obscene', 'threat', 'insult',\n",
            "       'identity_hate'],\n",
            "      dtype='object')\n"
          ]
        },
        {
          "data": {
            "image/png": "[encoded data removed]",
            "text/plain": [
              "<Figure size 1800x900 with 12 Axes>"
            ]
          },
          "metadata": {},
          "output_type": "display_data"
        }
      ],
      "source": [
        "pl.print_confusion_matrix(y_test, y_pred, injurious.columns)"
      ]
    },
    {
      "cell_type": "code",
      "execution_count": 26,
      "id": "3ec9526f",
      "metadata": {},
      "outputs": [
        {
          "data": {
            "text/plain": [
              "list"
            ]
          },
          "execution_count": 26,
          "metadata": {},
          "output_type": "execute_result"
        },
        {
          "data": {
            "text/plain": [
              "6"
            ]
          },
          "execution_count": 26,
          "metadata": {},
          "output_type": "execute_result"
        },
        {
          "ename": "AttributeError",
          "evalue": "'BatchLogger' object has no attribute 'batch_loss'",
          "output_type": "error",
          "traceback": [
            "\u001b[0;31m---------------------------------------------------------------------------\u001b[0m",
            "\u001b[0;31mAttributeError\u001b[0m                            Traceback (most recent call last)",
            "Cell \u001b[0;32mIn[26], line 6\u001b[0m\n\u001b[1;32m      4\u001b[0m \u001b[38;5;28mtype\u001b[39m(val_loss_per_epoch)\n\u001b[1;32m      5\u001b[0m \u001b[38;5;28mlen\u001b[39m(val_loss_per_epoch)\n\u001b[0;32m----> 6\u001b[0m \u001b[38;5;28mlen\u001b[39m(\u001b[43mbatch_log\u001b[49m\u001b[38;5;241;43m.\u001b[39;49m\u001b[43mbatch_loss\u001b[49m)\n\u001b[1;32m      7\u001b[0m stretch_loss \u001b[38;5;241m=\u001b[39m []\n\u001b[1;32m      8\u001b[0m stretch_accuracy \u001b[38;5;241m=\u001b[39m []\n",
            "\u001b[0;31mAttributeError\u001b[0m: 'BatchLogger' object has no attribute 'batch_loss'"
          ]
        }
      ],
      "source": [
        "val_loss_per_epoch = lstm_history.history['val_loss']\n",
        "val_accuracy_per_epoch = lstm_history.history['val_accuracy']\n",
        "\n",
        "type(val_loss_per_epoch)\n",
        "len(val_loss_per_epoch)\n",
        "len(batch_log.batch_loss)\n",
        "stretch_loss = []\n",
        "stretch_accuracy = []\n",
        "\n",
        "for i in range(len(val_loss_per_epoch)):\n",
        "    stretch_loss += [val_loss_per_epoch[i]]*int(len(batch_log.batch_loss) / len(val_loss_per_epoch))\n",
        "    stretch_accuracy += [val_accuracy_per_epoch[i]]*int(len(batch_log.batch_accuracy) / len(val_accuracy_per_epoch))\n",
        "\n",
        "stretch_loss = np.array(stretch_loss)\n",
        "stretch_accuracy = np.array(stretch_accuracy)\n",
        "stretch_loss.shape\n",
        "stretch_accuracy.shape"
      ]
    },
    {
      "cell_type": "code",
      "execution_count": null,
      "id": "b45f31fb",
      "metadata": {},
      "outputs": [],
      "source": [
        "pl.plot_training_stats(batch_log.batch_loss, stretch_loss, batch_log.batch_accuracy, stretch_accuracy)"
      ]
    },
    {
      "cell_type": "markdown",
      "id": "aba1b253",
      "metadata": {},
      "source": [
        "## Weighted loss function"
      ]
    },
    {
      "cell_type": "code",
      "execution_count": 27,
      "id": "6288cd95",
      "metadata": {},
      "outputs": [
        {
          "data": {
            "text/plain": [
              "([0.553370786516854,\n",
              "  0.5051202101897723,\n",
              "  0.5278618567955142,\n",
              "  0.5013825174385723,\n",
              "  0.5258440295925261,\n",
              "  0.5044096728307255],\n",
              " [5.184210526315789,\n",
              "  49.32612055641422,\n",
              "  9.472840605520927,\n",
              "  181.32954545454547,\n",
              "  10.173414089894804,\n",
              "  57.193548387096776])"
            ]
          },
          "execution_count": 27,
          "metadata": {},
          "output_type": "execute_result"
        }
      ],
      "source": [
        "w0 = [(1/np.sum(y_train.T[i] == 0)) * (len(y_train) /2) for i in range(len(y_train[0]))]\n",
        "w1 = [(1/np.sum(y_train.T[i] == 1)) * (len(y_train) /2) for i in range(len(y_train[0]))] \n",
        "w0, w1"
      ]
    },
    {
      "cell_type": "code",
      "execution_count": 28,
      "id": "d24d1f28",
      "metadata": {},
      "outputs": [
        {
          "name": "stdout",
          "output_type": "stream",
          "text": [
            "Model: \"sequential\"\n",
            "_________________________________________________________________\n",
            " Layer (type)                Output Shape              Param #   \n",
            "=================================================================\n",
            " embedding (Embedding)       (None, 1250, 150)         13854150  \n",
            "                                                                 \n",
            " dropout (Dropout)           (None, 1250, 150)         0         \n",
            "                                                                 \n",
            " lstm (LSTM)                 (None, 1250, 50)          40200     \n",
            "                                                                 \n",
            " global_max_pooling1d (Glob  (None, 50)                0         \n",
            " alMaxPooling1D)                                                 \n",
            "                                                                 \n",
            " dropout_1 (Dropout)         (None, 50)                0         \n",
            "                                                                 \n",
            " dense (Dense)               (None, 6)                 306       \n",
            "                                                                 \n",
            "=================================================================\n",
            "Total params: 13894656 (53.00 MB)\n",
            "Trainable params: 13894656 (53.00 MB)\n",
            "Non-trainable params: 0 (0.00 Byte)\n",
            "_________________________________________________________________\n"
          ]
        }
      ],
      "source": [
        "clear_session()\n",
        "\n",
        "lstm_weight_hist=\"LSTM_with_weights.plk\"\n",
        "lstm_weight_name = \"LSTM_with_weights.keras\"\n",
        "fit = False\n",
        "\n",
        "lstm_weight = LSTM_model(vocab_size, maxlen, dense_units=len(y_train[0]), activation='sigmoid')\n",
        "\n",
        "lstm_weight, fit = build_model(\n",
        "   lstm_weight_name,\n",
        "   lstm_weight,\n",
        "   models_dir,\n",
        "   optmizer='adam',\n",
        "   loss=md.weighted_binary_crossentropy(w0, w1),\n",
        "   metrics=['accuracy']\n",
        ")\n",
        "\n",
        "lstm_weight.summary()"
      ]
    },
    {
      "cell_type": "code",
      "execution_count": 29,
      "id": "d85a9035",
      "metadata": {},
      "outputs": [
        {
          "name": "stdout",
          "output_type": "stream",
          "text": [
            "Epoch 1/10\n",
            "1995/1995 [==============================] - 1093s 547ms/step - loss: 0.8334 - accuracy: 0.7512 - val_loss: 0.0908 - val_accuracy: 0.9938\n",
            "Epoch 2/10\n",
            "1995/1995 [==============================] - 1345s 674ms/step - loss: 0.0917 - accuracy: 0.9691 - val_loss: 0.0792 - val_accuracy: 0.9938\n",
            "Epoch 3/10\n",
            "1995/1995 [==============================] - 1080s 541ms/step - loss: 0.0844 - accuracy: 0.9875 - val_loss: 0.0790 - val_accuracy: 0.9938\n",
            "Epoch 4/10\n",
            "1995/1995 [==============================] - 1076s 539ms/step - loss: 0.0812 - accuracy: 0.9909 - val_loss: 0.0771 - val_accuracy: 0.9938\n",
            "Epoch 5/10\n",
            "1995/1995 [==============================] - ETA: 0s - loss: 0.0801 - accuracy: 0.9927\n",
            "Stop training at epoch: 5\n",
            "1995/1995 [==============================] - 1075s 539ms/step - loss: 0.0801 - accuracy: 0.9927 - val_loss: 0.0754 - val_accuracy: 0.9938\n"
          ]
        },
        {
          "ename": "TypeError",
          "evalue": "can only concatenate str (not \"History\") to str",
          "output_type": "error",
          "traceback": [
            "\u001b[0;31m---------------------------------------------------------------------------\u001b[0m",
            "\u001b[0;31mTypeError\u001b[0m                                 Traceback (most recent call last)",
            "Cell \u001b[0;32mIn[29], line 6\u001b[0m\n\u001b[1;32m      1\u001b[0m \u001b[38;5;28;01mif\u001b[39;00m fit:\n\u001b[1;32m      2\u001b[0m     lstm_weight_history \u001b[38;5;241m=\u001b[39m lstm_weight\u001b[38;5;241m.\u001b[39mfit(X_train, y_train,\n\u001b[1;32m      3\u001b[0m                         epochs\u001b[38;5;241m=\u001b[39m\u001b[38;5;241m10\u001b[39m, batch_size\u001b[38;5;241m=\u001b[39m\u001b[38;5;241m32\u001b[39m,\n\u001b[1;32m      4\u001b[0m                         validation_data\u001b[38;5;241m=\u001b[39m(X_val, y_val),\n\u001b[1;32m      5\u001b[0m                         callbacks\u001b[38;5;241m=\u001b[39m[early_stopping, batch_log])    \n\u001b[0;32m----> 6\u001b[0m     pickle\u001b[38;5;241m.\u001b[39mdump(lstm_history, \u001b[38;5;28mopen\u001b[39m(\u001b[43mstorage_folder\u001b[49m\u001b[38;5;241;43m+\u001b[39;49m\u001b[38;5;124;43m\"\u001b[39;49m\u001b[38;5;124;43m/\u001b[39;49m\u001b[38;5;124;43m\"\u001b[39;49m\u001b[38;5;241;43m+\u001b[39;49m\u001b[43mlstm_weight_history\u001b[49m, \u001b[38;5;124m'\u001b[39m\u001b[38;5;124mwb\u001b[39m\u001b[38;5;124m'\u001b[39m))\n\u001b[1;32m      7\u001b[0m     \u001b[38;5;28;01mif\u001b[39;00m COLAB:\n\u001b[1;32m      8\u001b[0m         lstm_weight\u001b[38;5;241m.\u001b[39msave(\u001b[38;5;124m\"\u001b[39m\u001b[38;5;124m./models/\u001b[39m\u001b[38;5;124m\"\u001b[39m\u001b[38;5;241m+\u001b[39mlstm_weight_name)\n",
            "\u001b[0;31mTypeError\u001b[0m: can only concatenate str (not \"History\") to str"
          ]
        }
      ],
      "source": [
        "if fit:\n",
        "    lstm_weight_history = lstm_weight.fit(X_train, y_train,\n",
        "                        epochs=10, batch_size=32,\n",
        "                        validation_data=(X_val, y_val),\n",
        "                        callbacks=[early_stopping, batch_log])    \n",
        "    pickle.dump(lstm_weight_history, open(storage_folder+\"/\"+lstm_weight_hist, 'wb'))\n",
        "    if COLAB:\n",
        "        lstm_weight.save(\"./models/\"+lstm_weight_name)\n",
        "    else:\n",
        "        lstm_weight.save(\"../models/\"+lstm_weight_name)\n",
        "else:\n",
        "      lstm_history = pickle.load(open(storage_folder+\"/\"+lstm_weight_hist, 'rb'))\n"
      ]
    },
    {
      "cell_type": "code",
      "execution_count": 31,
      "id": "411b7dbb",
      "metadata": {},
      "outputs": [
        {
          "name": "stdout",
          "output_type": "stream",
          "text": [
            "1496/1496 [==============================] - 175s 117ms/step\n",
            "Index(['toxic', 'severe_toxic', 'obscene', 'threat', 'insult',\n",
            "       'identity_hate'],\n",
            "      dtype='object')\n"
          ]
        },
        {
          "data": {
            "image/png": "[encoded data removed]",
            "text/plain": [
              "<Figure size 1800x900 with 12 Axes>"
            ]
          },
          "metadata": {},
          "output_type": "display_data"
        }
      ],
      "source": [
        "y_pred = convert_probability_to_value(lstm_weight.predict(X_test))\n",
        "pl.print_confusion_matrix(y_test, y_pred, injurious.columns)\n"
      ]
    },
    {
      "cell_type": "markdown",
      "id": "1e692cb0",
      "metadata": {
        "id": "1e692cb0"
      },
      "source": [
        "## RNN with GRU layer"
      ]
    },
    {
      "cell_type": "code",
      "execution_count": null,
      "id": "c584be1f",
      "metadata": {
        "colab": {
          "base_uri": "https://localhost:8080/"
        },
        "id": "c584be1f",
        "outputId": "26a5baad-4d89-4adb-ab73-9b1b30d13b11"
      },
      "outputs": [],
      "source": [
        "clear_session()\n",
        "rnn_gru_model_keras = \"rnn_gru_model.keras\"\n",
        "rnn_gru_model_history = \"history_rnn_gru.plk\"\n",
        "\n",
        "fit = False\n",
        "\n",
        "if rnn_gru_model_keras in os.listdir(models_dir):\n",
        "    answer = str(input(f\"Found Keras model {rnn_gru_model_keras}. Do you want to subscribe it? y/N\"))\n",
        "    if answer.lower() == 'y' or answer == 'yes':\n",
        "        rnn_gru_model = md.GRU_RNN_model(vocab_size, maxlen, dense_units=len(y_train[0]), activation='sigmoid')\n",
        "        rnn_gru_model.compile(optimizer='adam', loss='binary_crossentropy', metrics=['accuracy'])\n",
        "        fit = True\n",
        "    else:\n",
        "        rnn_gru_model = load_model(\"../models/\"+rnn_gru_model_keras)\n",
        "\n",
        "else:\n",
        "    rnn_gru_model = md.GRU_RNN_model(vocab_size, maxlen, dense_units=len(y_train[0]), activation='sigmoid')\n",
        "    rnn_gru_model.compile(optimizer='adam', loss='binary_crossentropy', metrics=['accuracy'])\n",
        "    fit = True\n",
        "\n",
        "rnn_gru_model.summary()\n"
      ]
    },
    {
      "cell_type": "code",
      "execution_count": null,
      "id": "76d5c089",
      "metadata": {
        "colab": {
          "base_uri": "https://localhost:8080/",
          "height": 567
        },
        "id": "76d5c089",
        "outputId": "d06e3d88-b0a2-4fe0-b913-64009926656c"
      },
      "outputs": [],
      "source": [
        "if fit:\n",
        "    history_rnn_gru = rnn_gru_model.fit(X_train, y_train,\n",
        "                        epochs=5, batch_size=32,\n",
        "                        validation_data=(X_val, y_val),\n",
        "                        callbacks=[early_stopping])\n",
        "    pickle.dump(history_rnn_gru, open(storage_folder+\"/\"+\"history_rnn_gru.plk\", 'wb'))\n",
        "    rnn_gru_model.save(models_dir+\"/rnn_gru_model.keras\")\n",
        "\n",
        "\n",
        "else:\n",
        "    history_rnn_gru = pickle.load(open(storage_folder+\"/\"+rnn_gru_model_history, 'rb'))\n",
        "\n",
        "history_rnn_gru.history"
      ]
    },
    {
      "cell_type": "code",
      "execution_count": null,
      "id": "f80eff37",
      "metadata": {
        "colab": {
          "base_uri": "https://localhost:8080/"
        },
        "id": "f80eff37",
        "outputId": "93f3de77-0eea-4fa9-e741-3363ed51cb4d"
      },
      "outputs": [],
      "source": [
        "y_pred_rnn_gru = convert_probability_to_value(rnn_gru_model.predict(X_test))"
      ]
    },
    {
      "cell_type": "code",
      "execution_count": null,
      "id": "0476040c",
      "metadata": {
        "colab": {
          "base_uri": "https://localhost:8080/",
          "height": 529
        },
        "id": "0476040c",
        "outputId": "092451d7-1691-4a69-c8d8-0379be918a7e"
      },
      "outputs": [],
      "source": [
        "pl.print_confusion_matrix(y_test, y_pred_rnn_gru, injurious.columns)"
      ]
    },
    {
      "cell_type": "markdown",
      "id": "593604c9",
      "metadata": {
        "id": "593604c9"
      },
      "source": [
        "## Model with LSTM and Convolutional layer"
      ]
    },
    {
      "cell_type": "code",
      "execution_count": null,
      "id": "8dcf1bd6",
      "metadata": {
        "id": "8dcf1bd6"
      },
      "outputs": [],
      "source": [
        "\n",
        "cnn_model_keras = \"cnn_model.keras\"\n",
        "cnn_model_history = \"history_cnn.plk\"\n",
        "\n",
        "if cnn_model_keras in os.listdir(models_dir):\n",
        "    answer = str(input(f\"Found Keras model {cnn_model_keras}. Do you want to subscribe it? y/N\"))\n",
        "    if answer.lower() == 'y' or answer == 'yes':\n",
        "        clear_session()\n",
        "        cnn_model = md.CNN_model(vocab_size, maxlen, dense_units=len(y_train[0]), activation='sigmoid')\n",
        "        cnn_model.compile(optimizer='adam', loss='binary_crossentropy', metrics=['accuracy'])\n",
        "\n",
        "    else:\n",
        "        cnn_model = load_model(\"../models/\"+cnn_model_keras)\n",
        "else:\n",
        "    cnn_model = md.CNN_model(vocab_size, maxlen, dense_units=len(y_train[0]), activation='sigmoid')\n",
        "\n",
        "cnn_model.summary()\n"
      ]
    },
    {
      "cell_type": "code",
      "execution_count": null,
      "id": "316db4d6",
      "metadata": {
        "id": "316db4d6"
      },
      "outputs": [],
      "source": [
        "if answer.lower() == 'y' or answer == 'yes':\n",
        "    history_cnn = cnn_model.fit(X_train, y_train,\n",
        "                        epochs=10, batch_size=64,\n",
        "                        validation_data=(X_val, y_val),\n",
        "                        callbacks=[early_stopping])\n",
        "\n",
        "    pickle.dump(history_cnn, open(storage_folder+\"/\"+cnn_model_history, 'wb'))\n",
        "    cnn_model.save(models_dir+'/'+cnn_model_keras)   \n",
        "else:\n",
        "    history_cnn = pickle.load(open(storage_folder+\"/\"+cnn_model_history, 'rb'))"
      ]
    },
    {
      "cell_type": "code",
      "execution_count": null,
      "id": "aa162283",
      "metadata": {},
      "outputs": [],
      "source": [
        "y_pred_cnn = convert_probability_to_value(cnn_model.predict(X_test))\n",
        "pl.print_confusion_matrix(y_test, y_pred_cnn, injurious.columns)"
      ]
    },
    {
      "cell_type": "code",
      "execution_count": null,
      "id": "954f25cd",
      "metadata": {},
      "outputs": [],
      "source": [
        "y_train.T[5]\n",
        "range(len(y_train[0]))"
      ]
    },
    {
      "cell_type": "code",
      "execution_count": null,
      "id": "1928b45c",
      "metadata": {},
      "outputs": [],
      "source": [
        "clear_session()\n",
        "cnn_model_with_w = md.CNN_model(vocab_size, maxlen, dense_units=len(y_train[0]), activation='sigmoid')\n",
        "cnn_model_with_w.compile(optimizer='adam', loss=md.weighted_binary_crossentropy(w0, w1), metrics=['f1-score'])\n",
        "history_cnn_with_w = cnn_model_with_w.fit(X_train, y_train,\n",
        "                        epochs=10, batch_size=64,\n",
        "                        validation_data=(X_val, y_val),\n",
        "                        callbacks=[early_stopping])"
      ]
    },
    {
      "cell_type": "code",
      "execution_count": null,
      "id": "c2493046",
      "metadata": {},
      "outputs": [],
      "source": [
        "y_pred_cnn_with_w = convert_probability_to_value(cnn_model_with_w.predict(X_test))\n",
        "pl.print_confusion_matrix(y_test, y_pred_cnn_with_w, injurious.columns)\n"
      ]
    },
    {
      "cell_type": "markdown",
      "id": "34e38bf1",
      "metadata": {},
      "source": [
        "## ANOTHER MODEL"
      ]
    },
    {
      "cell_type": "code",
      "execution_count": null,
      "id": "da151c48",
      "metadata": {},
      "outputs": [],
      "source": [
        "clear_session()\n",
        "\n",
        "cnn_model_2_keras = \"cnn_model_2.keras\"\n",
        "cnn_model_2_history = \"history_cnn_2.plk\"\n",
        "\n",
        "\n",
        "if cnn_model_2_keras in os.listdir(models_dir):\n",
        "    answer = str(input(f\"Found Keras model {rnn_gru_model_keras}. Do you want to subscribe it? y/N\"))\n",
        "    if answer.lower() == 'y' or answer == 'yes':\n",
        "        clear_session()\n",
        "        cnn_model_2 = md.CNN_model_2(vocab_size, maxlen, dense_units=len(y_train[0]), activation='sigmoid')        \n",
        "        cnn_model_2.compile(optimizer='adam', loss=md.weighted_binary_crossentropy(w0, w1), metrics=['accuracy'])\n",
        "\n",
        "    else:\n",
        "        custom_objects = {'loss': md.weighted_binary_crossentropy(w0, w1)}\n",
        "        cnn_model_2 = load_model(\"../models/\"+cnn_model_2_keras, custom_objects=custom_objects)\n",
        "else:\n",
        "    clear_session()\n",
        "    cnn_model_2 = md.CNN_model_2(vocab_size, maxlen, dense_units=len(y_train[0]), activation='sigmoid')        \n",
        "    cnn_model_2.compile(optimizer='adam', loss=md.weighted_binary_crossentropy(w0, w1), metrics=['accuracy'])\n",
        "\n",
        "cnn_model_2.summary()"
      ]
    },
    {
      "cell_type": "code",
      "execution_count": null,
      "id": "83c54acf",
      "metadata": {},
      "outputs": [],
      "source": [
        "answer = \"y\"\n",
        "if answer.lower() == 'y' or answer == 'yes':\n",
        "    history_cnn_2 = cnn_model_2.fit(X_train, y_train,\n",
        "                        epochs=10, batch_size=64,\n",
        "                        validation_data=(X_val, y_val),\n",
        "                        callbacks=[early_stopping])\n",
        "\n",
        "    pickle.dump(history_cnn_2, open(storage_folder+\"/\"+cnn_model_2_history, 'wb'))\n",
        "    cnn_model_2.save(models_dir+'/'+cnn_model_2_keras)   \n",
        "else:\n",
        "    history_cnn_2 = pickle.load(open(storage_folder+\"/\"+cnn_model_2_history, 'rb'))"
      ]
    },
    {
      "cell_type": "markdown",
      "id": "2261b3ab",
      "metadata": {},
      "source": []
    },
    {
      "cell_type": "code",
      "execution_count": null,
      "id": "7a725e02",
      "metadata": {},
      "outputs": [],
      "source": [
        "y_pred_cnn_2 = convert_probability_to_value(cnn_model_2.predict(X_test))\n",
        "pl.print_confusion_matrix(y_test, y_pred_cnn_2, injurious.columns)"
      ]
    }
  ],
  "metadata": {
    "accelerator": "GPU",
    "colab": {
      "gpuType": "L4",
      "include_colab_link": true,
      "provenance": []
    },
    "kernelspec": {
      "display_name": "Python 3",
      "name": "python3"
    },
    "language_info": {
      "codemirror_mode": {
        "name": "ipython",
        "version": 3
      },
      "file_extension": ".py",
      "mimetype": "text/x-python",
      "name": "python",
      "nbconvert_exporter": "python",
      "pygments_lexer": "ipython3",
      "version": "3.11.9"
    }
  },
  "nbformat": 4,
  "nbformat_minor": 5
}
