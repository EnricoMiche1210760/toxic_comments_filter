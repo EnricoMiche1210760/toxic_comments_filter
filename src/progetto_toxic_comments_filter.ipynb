{
  "cells": [
    {
      "cell_type": "markdown",
      "metadata": {
        "colab_type": "text",
        "id": "view-in-github"
      },
      "source": [
        "<a href=\"https://colab.research.google.com/github/EnricoMiche1210760/toxic_comments_filter/blob/main/progetto_toxic_comments_filter.ipynb\" target=\"_parent\"><img src=\"https://colab.research.google.com/assets/colab-badge.svg\" alt=\"Open In Colab\"/></a>"
      ]
    },
    {
      "cell_type": "markdown",
      "id": "1f1eac10",
      "metadata": {
        "id": "1f1eac10"
      },
      "source": [
        "## Project: Toxic Comment Filter"
      ]
    },
    {
      "cell_type": "markdown",
      "id": "3504d2cc",
      "metadata": {
        "id": "3504d2cc"
      },
      "source": [
        "Costruire un modello in grado di filtrare i commenti degli utenti in base al grado di dannosità del linguaggio:\n",
        "1. Preprocessare il testo eliminando l'insieme di token che non danno contributo significativo a livello semantico\n",
        "2. Trasformare il corpus testuale in sequenze\n",
        "3. Costruire un modello di Deep Learning comprendente dei layer ricorrenti per un task di classificazione multilabel\n",
        "4. In prediction time, il modello deve ritornare un vettore contenente un 1 o uno 0 in corrispondenza di ogni label presente nel dataset (toxic,\tsevere_toxic,\tobscene,\tthreat,\tinsult,\tidentity_hate). In questo modo, un commento non dannoso sarà classificato da un vettore di soli 0 [0,0,0,0,0,0]. Al contrario, un commento pericoloso presenterà almeno un 1 tra le 6 labels."
      ]
    },
    {
      "cell_type": "code",
      "execution_count": 1,
      "id": "bc231d72",
      "metadata": {},
      "outputs": [],
      "source": [
        "import pandas as pd\n",
        "import nltk\n",
        "import spacy\n",
        "import numpy as np\n",
        "import os\n",
        "\n",
        "#nltk.download('punkt')\n",
        "#nltk.download('stopwords')\n",
        "from IPython.core.interactiveshell import InteractiveShell\n",
        "InteractiveShell.ast_node_interactivity = \"all\"\n",
        "%config Completer.use_jedi = False\n",
        "COLAB = False\n",
        "if \"google.colab\" in str(get_ipython()):\n",
        "    COLAB = True\n",
        "    print('Running on CoLab')"
      ]
    },
    {
      "cell_type": "code",
      "execution_count": 2,
      "id": "c2f2fb60",
      "metadata": {
        "id": "c2f2fb60"
      },
      "outputs": [],
      "source": [
        "if COLAB == True:\n",
        "    BASE_URL = \"https://s3.eu-west-3.amazonaws.com/profession.ai/datasets/\"\n",
        "else:\n",
        "    BASE_URL = \"../data/\"\n",
        "df = pd.read_csv(BASE_URL+\"Filter_Toxic_Comments_dataset.csv\")"
      ]
    },
    {
      "cell_type": "code",
      "execution_count": 3,
      "id": "66c3d701",
      "metadata": {
        "id": "66c3d701",
        "outputId": "e08b454a-afe2-4b45-caf6-bd0d5ffd41a0"
      },
      "outputs": [
        {
          "data": {
            "text/html": [
              "<div>\n",
              "<style scoped>\n",
              "    .dataframe tbody tr th:only-of-type {\n",
              "        vertical-align: middle;\n",
              "    }\n",
              "\n",
              "    .dataframe tbody tr th {\n",
              "        vertical-align: top;\n",
              "    }\n",
              "\n",
              "    .dataframe thead th {\n",
              "        text-align: right;\n",
              "    }\n",
              "</style>\n",
              "<table border=\"1\" class=\"dataframe\">\n",
              "  <thead>\n",
              "    <tr style=\"text-align: right;\">\n",
              "      <th></th>\n",
              "      <th>comment_text</th>\n",
              "      <th>toxic</th>\n",
              "      <th>severe_toxic</th>\n",
              "      <th>obscene</th>\n",
              "      <th>threat</th>\n",
              "      <th>insult</th>\n",
              "      <th>identity_hate</th>\n",
              "      <th>sum_injurious</th>\n",
              "    </tr>\n",
              "  </thead>\n",
              "  <tbody>\n",
              "    <tr>\n",
              "      <th>0</th>\n",
              "      <td>Explanation\\nWhy the edits made under my usern...</td>\n",
              "      <td>0</td>\n",
              "      <td>0</td>\n",
              "      <td>0</td>\n",
              "      <td>0</td>\n",
              "      <td>0</td>\n",
              "      <td>0</td>\n",
              "      <td>0</td>\n",
              "    </tr>\n",
              "    <tr>\n",
              "      <th>1</th>\n",
              "      <td>D'aww! He matches this background colour I'm s...</td>\n",
              "      <td>0</td>\n",
              "      <td>0</td>\n",
              "      <td>0</td>\n",
              "      <td>0</td>\n",
              "      <td>0</td>\n",
              "      <td>0</td>\n",
              "      <td>0</td>\n",
              "    </tr>\n",
              "    <tr>\n",
              "      <th>2</th>\n",
              "      <td>Hey man, I'm really not trying to edit war. It...</td>\n",
              "      <td>0</td>\n",
              "      <td>0</td>\n",
              "      <td>0</td>\n",
              "      <td>0</td>\n",
              "      <td>0</td>\n",
              "      <td>0</td>\n",
              "      <td>0</td>\n",
              "    </tr>\n",
              "    <tr>\n",
              "      <th>3</th>\n",
              "      <td>\"\\nMore\\nI can't make any real suggestions on ...</td>\n",
              "      <td>0</td>\n",
              "      <td>0</td>\n",
              "      <td>0</td>\n",
              "      <td>0</td>\n",
              "      <td>0</td>\n",
              "      <td>0</td>\n",
              "      <td>0</td>\n",
              "    </tr>\n",
              "    <tr>\n",
              "      <th>4</th>\n",
              "      <td>You, sir, are my hero. Any chance you remember...</td>\n",
              "      <td>0</td>\n",
              "      <td>0</td>\n",
              "      <td>0</td>\n",
              "      <td>0</td>\n",
              "      <td>0</td>\n",
              "      <td>0</td>\n",
              "      <td>0</td>\n",
              "    </tr>\n",
              "  </tbody>\n",
              "</table>\n",
              "</div>"
            ],
            "text/plain": [
              "                                        comment_text  toxic  severe_toxic  \\\n",
              "0  Explanation\\nWhy the edits made under my usern...      0             0   \n",
              "1  D'aww! He matches this background colour I'm s...      0             0   \n",
              "2  Hey man, I'm really not trying to edit war. It...      0             0   \n",
              "3  \"\\nMore\\nI can't make any real suggestions on ...      0             0   \n",
              "4  You, sir, are my hero. Any chance you remember...      0             0   \n",
              "\n",
              "   obscene  threat  insult  identity_hate  sum_injurious  \n",
              "0        0       0       0              0              0  \n",
              "1        0       0       0              0              0  \n",
              "2        0       0       0              0              0  \n",
              "3        0       0       0              0              0  \n",
              "4        0       0       0              0              0  "
            ]
          },
          "execution_count": 3,
          "metadata": {},
          "output_type": "execute_result"
        }
      ],
      "source": [
        "df.head()"
      ]
    },
    {
      "cell_type": "code",
      "execution_count": 4,
      "id": "19e65ce3",
      "metadata": {
        "id": "19e65ce3",
        "outputId": "d0c5f387-3531-4923-dddb-8c41f31ff081"
      },
      "outputs": [
        {
          "data": {
            "text/html": [
              "<div>\n",
              "<style scoped>\n",
              "    .dataframe tbody tr th:only-of-type {\n",
              "        vertical-align: middle;\n",
              "    }\n",
              "\n",
              "    .dataframe tbody tr th {\n",
              "        vertical-align: top;\n",
              "    }\n",
              "\n",
              "    .dataframe thead th {\n",
              "        text-align: right;\n",
              "    }\n",
              "</style>\n",
              "<table border=\"1\" class=\"dataframe\">\n",
              "  <thead>\n",
              "    <tr style=\"text-align: right;\">\n",
              "      <th></th>\n",
              "      <th>comment_text</th>\n",
              "      <th>toxic</th>\n",
              "      <th>severe_toxic</th>\n",
              "      <th>obscene</th>\n",
              "      <th>threat</th>\n",
              "      <th>insult</th>\n",
              "      <th>identity_hate</th>\n",
              "      <th>sum_injurious</th>\n",
              "    </tr>\n",
              "  </thead>\n",
              "  <tbody>\n",
              "    <tr>\n",
              "      <th>51</th>\n",
              "      <td>GET FUCKED UP. GET FUCKEEED UP.  GOT A DRINK T...</td>\n",
              "      <td>1</td>\n",
              "      <td>0</td>\n",
              "      <td>1</td>\n",
              "      <td>0</td>\n",
              "      <td>0</td>\n",
              "      <td>0</td>\n",
              "      <td>2</td>\n",
              "    </tr>\n",
              "    <tr>\n",
              "      <th>58</th>\n",
              "      <td>My Band Page's deletion. You thought I was gon...</td>\n",
              "      <td>1</td>\n",
              "      <td>0</td>\n",
              "      <td>1</td>\n",
              "      <td>0</td>\n",
              "      <td>0</td>\n",
              "      <td>0</td>\n",
              "      <td>2</td>\n",
              "    </tr>\n",
              "    <tr>\n",
              "      <th>79</th>\n",
              "      <td>Hi! I am back again!\\nLast warning!\\nStop undo...</td>\n",
              "      <td>1</td>\n",
              "      <td>0</td>\n",
              "      <td>0</td>\n",
              "      <td>1</td>\n",
              "      <td>0</td>\n",
              "      <td>0</td>\n",
              "      <td>2</td>\n",
              "    </tr>\n",
              "    <tr>\n",
              "      <th>86</th>\n",
              "      <td>Would you both shut up, you don't run wikipedi...</td>\n",
              "      <td>1</td>\n",
              "      <td>0</td>\n",
              "      <td>0</td>\n",
              "      <td>0</td>\n",
              "      <td>1</td>\n",
              "      <td>0</td>\n",
              "      <td>2</td>\n",
              "    </tr>\n",
              "    <tr>\n",
              "      <th>168</th>\n",
              "      <td>You should be fired, you're a moronic wimp who...</td>\n",
              "      <td>1</td>\n",
              "      <td>0</td>\n",
              "      <td>0</td>\n",
              "      <td>0</td>\n",
              "      <td>1</td>\n",
              "      <td>0</td>\n",
              "      <td>2</td>\n",
              "    </tr>\n",
              "    <tr>\n",
              "      <th>...</th>\n",
              "      <td>...</td>\n",
              "      <td>...</td>\n",
              "      <td>...</td>\n",
              "      <td>...</td>\n",
              "      <td>...</td>\n",
              "      <td>...</td>\n",
              "      <td>...</td>\n",
              "      <td>...</td>\n",
              "    </tr>\n",
              "    <tr>\n",
              "      <th>159253</th>\n",
              "      <td>what do you mean \\n\\nwhy don't you keep your n...</td>\n",
              "      <td>1</td>\n",
              "      <td>0</td>\n",
              "      <td>1</td>\n",
              "      <td>0</td>\n",
              "      <td>0</td>\n",
              "      <td>0</td>\n",
              "      <td>2</td>\n",
              "    </tr>\n",
              "    <tr>\n",
              "      <th>159334</th>\n",
              "      <td>Horse's ass \\n\\nSeriously, dude, what's that h...</td>\n",
              "      <td>1</td>\n",
              "      <td>0</td>\n",
              "      <td>1</td>\n",
              "      <td>0</td>\n",
              "      <td>0</td>\n",
              "      <td>0</td>\n",
              "      <td>2</td>\n",
              "    </tr>\n",
              "    <tr>\n",
              "      <th>159449</th>\n",
              "      <td>I think he is a gay fag!!!</td>\n",
              "      <td>1</td>\n",
              "      <td>0</td>\n",
              "      <td>0</td>\n",
              "      <td>0</td>\n",
              "      <td>0</td>\n",
              "      <td>1</td>\n",
              "      <td>2</td>\n",
              "    </tr>\n",
              "    <tr>\n",
              "      <th>159514</th>\n",
              "      <td>YOU ARE A MISCHIEVIOUS PUBIC HAIR</td>\n",
              "      <td>1</td>\n",
              "      <td>0</td>\n",
              "      <td>0</td>\n",
              "      <td>0</td>\n",
              "      <td>1</td>\n",
              "      <td>0</td>\n",
              "      <td>2</td>\n",
              "    </tr>\n",
              "    <tr>\n",
              "      <th>159546</th>\n",
              "      <td>\"\\n\\nHey listen don't you ever!!!! Delete my e...</td>\n",
              "      <td>1</td>\n",
              "      <td>0</td>\n",
              "      <td>0</td>\n",
              "      <td>0</td>\n",
              "      <td>1</td>\n",
              "      <td>0</td>\n",
              "      <td>2</td>\n",
              "    </tr>\n",
              "  </tbody>\n",
              "</table>\n",
              "<p>3480 rows × 8 columns</p>\n",
              "</div>"
            ],
            "text/plain": [
              "                                             comment_text  toxic  \\\n",
              "51      GET FUCKED UP. GET FUCKEEED UP.  GOT A DRINK T...      1   \n",
              "58      My Band Page's deletion. You thought I was gon...      1   \n",
              "79      Hi! I am back again!\\nLast warning!\\nStop undo...      1   \n",
              "86      Would you both shut up, you don't run wikipedi...      1   \n",
              "168     You should be fired, you're a moronic wimp who...      1   \n",
              "...                                                   ...    ...   \n",
              "159253  what do you mean \\n\\nwhy don't you keep your n...      1   \n",
              "159334  Horse's ass \\n\\nSeriously, dude, what's that h...      1   \n",
              "159449                         I think he is a gay fag!!!      1   \n",
              "159514                  YOU ARE A MISCHIEVIOUS PUBIC HAIR      1   \n",
              "159546  \"\\n\\nHey listen don't you ever!!!! Delete my e...      1   \n",
              "\n",
              "        severe_toxic  obscene  threat  insult  identity_hate  sum_injurious  \n",
              "51                 0        1       0       0              0              2  \n",
              "58                 0        1       0       0              0              2  \n",
              "79                 0        0       1       0              0              2  \n",
              "86                 0        0       0       1              0              2  \n",
              "168                0        0       0       1              0              2  \n",
              "...              ...      ...     ...     ...            ...            ...  \n",
              "159253             0        1       0       0              0              2  \n",
              "159334             0        1       0       0              0              2  \n",
              "159449             0        0       0       0              1              2  \n",
              "159514             0        0       0       1              0              2  \n",
              "159546             0        0       0       1              0              2  \n",
              "\n",
              "[3480 rows x 8 columns]"
            ]
          },
          "execution_count": 4,
          "metadata": {},
          "output_type": "execute_result"
        }
      ],
      "source": [
        "df[df['sum_injurious']==2]"
      ]
    },
    {
      "cell_type": "code",
      "execution_count": 5,
      "id": "9cc895ec",
      "metadata": {},
      "outputs": [],
      "source": [
        "#!python -m spacy download en_core_web_sm"
      ]
    },
    {
      "cell_type": "code",
      "execution_count": 6,
      "id": "6b21e249",
      "metadata": {
        "id": "6b21e249",
        "outputId": "32fb9c3b-c21e-4237-c6f1-9c4c3a992182"
      },
      "outputs": [
        {
          "data": {
            "text/plain": [
              "159571"
            ]
          },
          "execution_count": 6,
          "metadata": {},
          "output_type": "execute_result"
        }
      ],
      "source": [
        "len(df)"
      ]
    },
    {
      "cell_type": "code",
      "execution_count": 7,
      "id": "6a6421ed",
      "metadata": {
        "id": "6a6421ed"
      },
      "outputs": [
        {
          "data": {
            "text/plain": [
              "numpy.ndarray"
            ]
          },
          "execution_count": 7,
          "metadata": {},
          "output_type": "execute_result"
        }
      ],
      "source": [
        "df_text = np.array(df['comment_text'])\n",
        "type(df_text)\n",
        "\n",
        "nlp = spacy.load('en_core_web_sm')\n",
        "eng_stopwords = nltk.corpus.stopwords.words('english')\n",
        "\n",
        "\n",
        "def preprocess_text_and_store(text, doc_store=None, store=False):\n",
        "    preprocessed_text = np.empty(len(text), dtype=object)\n",
        "    if doc_store is None or doc_store not in os.listdir('../data/'):\n",
        "        counter = 0\n",
        "        for i in range(len(text)):\n",
        "            process_words = []\n",
        "\n",
        "            for word in nltk.word_tokenize(nlp(text[i].lower()).text):\n",
        "                if word.isalpha() and word not in eng_stopwords:\n",
        "                    process_words.append(word)\n",
        "            preprocessed_text[counter] = ' '.join(process_words)\n",
        "            counter += 1\n",
        "    else:\n",
        "        preprocessed_text = np.array(pd.read_csv('../data/'+doc_store)['comment_text'])\n",
        "    if store:\n",
        "        pd.DataFrame(data = {\"comment_text\":preprocessed_text}).to_csv(BASE_URL+doc_store)\n",
        "\n",
        "    return preprocessed_text\n",
        "\n",
        "preprocessed_text= preprocess_text_and_store(df_text, doc_store=\"preprocessed_text.csv\", store=False)\n"
      ]
    },
    {
      "cell_type": "code",
      "execution_count": 8,
      "id": "bd95da42",
      "metadata": {},
      "outputs": [
        {
          "data": {
            "text/plain": [
              "\"Explanation\\nWhy the edits made under my username Hardcore Metallica Fan were reverted? They weren't vandalisms, just closure on some GAs after I voted at New York Dolls FAC. And please don't remove the template from the talk page since I'm retired now.89.205.38.27\""
            ]
          },
          "execution_count": 8,
          "metadata": {},
          "output_type": "execute_result"
        },
        {
          "data": {
            "text/plain": [
              "'explanation edits made username hardcore metallica fan reverted vandalisms closure gas voted new york dolls fac please remove template talk page since retired'"
            ]
          },
          "execution_count": 8,
          "metadata": {},
          "output_type": "execute_result"
        }
      ],
      "source": [
        "df_text[0]\n",
        "preprocessed_text[0]"
      ]
    },
    {
      "cell_type": "code",
      "execution_count": 9,
      "id": "b8d663cf",
      "metadata": {},
      "outputs": [],
      "source": [
        "df = df.drop(columns=['comment_text'])"
      ]
    },
    {
      "cell_type": "code",
      "execution_count": 10,
      "id": "0615d207",
      "metadata": {},
      "outputs": [
        {
          "data": {
            "text/html": [
              "<div>\n",
              "<style scoped>\n",
              "    .dataframe tbody tr th:only-of-type {\n",
              "        vertical-align: middle;\n",
              "    }\n",
              "\n",
              "    .dataframe tbody tr th {\n",
              "        vertical-align: top;\n",
              "    }\n",
              "\n",
              "    .dataframe thead th {\n",
              "        text-align: right;\n",
              "    }\n",
              "</style>\n",
              "<table border=\"1\" class=\"dataframe\">\n",
              "  <thead>\n",
              "    <tr style=\"text-align: right;\">\n",
              "      <th></th>\n",
              "      <th>toxic</th>\n",
              "      <th>severe_toxic</th>\n",
              "      <th>obscene</th>\n",
              "      <th>threat</th>\n",
              "      <th>insult</th>\n",
              "      <th>identity_hate</th>\n",
              "      <th>sum_injurious</th>\n",
              "    </tr>\n",
              "  </thead>\n",
              "  <tbody>\n",
              "    <tr>\n",
              "      <th>0</th>\n",
              "      <td>0</td>\n",
              "      <td>0</td>\n",
              "      <td>0</td>\n",
              "      <td>0</td>\n",
              "      <td>0</td>\n",
              "      <td>0</td>\n",
              "      <td>0</td>\n",
              "    </tr>\n",
              "    <tr>\n",
              "      <th>1</th>\n",
              "      <td>0</td>\n",
              "      <td>0</td>\n",
              "      <td>0</td>\n",
              "      <td>0</td>\n",
              "      <td>0</td>\n",
              "      <td>0</td>\n",
              "      <td>0</td>\n",
              "    </tr>\n",
              "    <tr>\n",
              "      <th>2</th>\n",
              "      <td>0</td>\n",
              "      <td>0</td>\n",
              "      <td>0</td>\n",
              "      <td>0</td>\n",
              "      <td>0</td>\n",
              "      <td>0</td>\n",
              "      <td>0</td>\n",
              "    </tr>\n",
              "    <tr>\n",
              "      <th>3</th>\n",
              "      <td>0</td>\n",
              "      <td>0</td>\n",
              "      <td>0</td>\n",
              "      <td>0</td>\n",
              "      <td>0</td>\n",
              "      <td>0</td>\n",
              "      <td>0</td>\n",
              "    </tr>\n",
              "    <tr>\n",
              "      <th>4</th>\n",
              "      <td>0</td>\n",
              "      <td>0</td>\n",
              "      <td>0</td>\n",
              "      <td>0</td>\n",
              "      <td>0</td>\n",
              "      <td>0</td>\n",
              "      <td>0</td>\n",
              "    </tr>\n",
              "  </tbody>\n",
              "</table>\n",
              "</div>"
            ],
            "text/plain": [
              "   toxic  severe_toxic  obscene  threat  insult  identity_hate  sum_injurious\n",
              "0      0             0        0       0       0              0              0\n",
              "1      0             0        0       0       0              0              0\n",
              "2      0             0        0       0       0              0              0\n",
              "3      0             0        0       0       0              0              0\n",
              "4      0             0        0       0       0              0              0"
            ]
          },
          "execution_count": 10,
          "metadata": {},
          "output_type": "execute_result"
        }
      ],
      "source": [
        "df.head(5)"
      ]
    },
    {
      "cell_type": "code",
      "execution_count": 11,
      "id": "b6a55ad6",
      "metadata": {},
      "outputs": [
        {
          "data": {
            "text/plain": [
              "array([0, 4, 1, 3, 2, 5, 6])"
            ]
          },
          "execution_count": 11,
          "metadata": {},
          "output_type": "execute_result"
        }
      ],
      "source": [
        "df['sum_injurious'].unique()"
      ]
    },
    {
      "cell_type": "code",
      "execution_count": 12,
      "id": "1a94e881",
      "metadata": {},
      "outputs": [],
      "source": [
        "import matplotlib.pyplot as plt\n",
        "\n",
        "def show_number(plot, hist, bin_centers):\n",
        "    for i in range(len(hist)):\n",
        "        plot.text(bin_centers[i], hist[i], int(hist[i]), ha='center', va='bottom', fontsize=8, fontweight='bold')"
      ]
    },
    {
      "cell_type": "code",
      "execution_count": 13,
      "id": "7f155891",
      "metadata": {},
      "outputs": [
        {
          "data": {
            "image/png": "[encoded data removed]",
            "text/plain": [
              "<Figure size 640x480 with 1 Axes>"
            ]
          },
          "metadata": {},
          "output_type": "display_data"
        }
      ],
      "source": [
        "col_names = np.sort(df['sum_injurious'].unique())\n",
        "comments_per_injurious = df['sum_injurious'].value_counts()\n",
        "\n",
        "hist, bins, _ = plt.hist(df['sum_injurious'], bins=len(col_names), color='skyblue')\n",
        "bin_centers = 0.5 * (bins[:-1] + bins[1:])\n",
        "plt.yticks(fontsize=8)\n",
        "plt.xticks(bin_centers, col_names, fontsize=8)\n",
        "plt.title('Injurious sum in comments', fontsize=15)\n",
        "plt.xlabel('injurious sum per single comment', fontsize=10)\n",
        "plt.ylabel('Number of comments', fontsize=10)\n",
        "show_number(plt, hist, bin_centers)\n",
        "plt.show();"
      ]
    },
    {
      "cell_type": "code",
      "execution_count": 23,
      "id": "e0b497c4",
      "metadata": {},
      "outputs": [
        {
          "data": {
            "text/plain": [
              "toxic            15294\n",
              "severe_toxic      1595\n",
              "obscene           8449\n",
              "threat             478\n",
              "insult            7877\n",
              "identity_hate     1405\n",
              "dtype: int64"
            ]
          },
          "execution_count": 23,
          "metadata": {},
          "output_type": "execute_result"
        }
      ],
      "source": [
        "injurious = df.drop(columns=['sum_injurious'])\n",
        "injurious_type_sum = injurious.sum(axis=0)\n",
        "injurious_type_sum"
      ]
    },
    {
      "cell_type": "code",
      "execution_count": 32,
      "id": "2f3770e2",
      "metadata": {},
      "outputs": [
        {
          "data": {
            "image/png": "[encoded data removed]",
            "text/plain": [
              "<Figure size 800x500 with 1 Axes>"
            ]
          },
          "metadata": {},
          "output_type": "display_data"
        }
      ],
      "source": [
        "#plot the injurious types\n",
        "plt.figure(figsize=(8, 5))\n",
        "barplot = plt.bar(injurious.columns, injurious_type_sum, color='indianred')\n",
        "plt.xticks(rotation=45)\n",
        "plt.title('Injurious types in comments', fontsize=15)\n",
        "plt.xlabel('Injurious type', fontsize=10)\n",
        "plt.ylabel('Number of comments', fontsize=10)\n",
        "plt.show();"
      ]
    },
    {
      "cell_type": "code",
      "execution_count": 36,
      "id": "a5d717ff",
      "metadata": {},
      "outputs": [
        {
          "data": {
            "text/plain": [
              "15294"
            ]
          },
          "execution_count": 36,
          "metadata": {},
          "output_type": "execute_result"
        },
        {
          "data": {
            "text/plain": [
              "0.8"
            ]
          },
          "execution_count": 36,
          "metadata": {},
          "output_type": "execute_result"
        }
      ],
      "source": []
    }
  ],
  "metadata": {
    "colab": {
      "include_colab_link": true,
      "provenance": []
    },
    "kernelspec": {
      "display_name": "Python 3 (ipykernel)",
      "language": "python",
      "name": "python3"
    },
    "language_info": {
      "codemirror_mode": {
        "name": "ipython",
        "version": 3
      },
      "file_extension": ".py",
      "mimetype": "text/x-python",
      "name": "python",
      "nbconvert_exporter": "python",
      "pygments_lexer": "ipython3",
      "version": "3.11.9"
    }
  },
  "nbformat": 4,
  "nbformat_minor": 5
}
