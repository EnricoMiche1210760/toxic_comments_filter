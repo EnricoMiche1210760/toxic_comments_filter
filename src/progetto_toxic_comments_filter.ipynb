{
  "cells": [
    {
      "cell_type": "markdown",
      "metadata": {
        "colab_type": "text",
        "id": "view-in-github"
      },
      "source": [
        "<a href=\"https://colab.research.google.com/github/EnricoMiche1210760/toxic_comments_filter/blob/main/progetto_toxic_comments_filter.ipynb\" target=\"_parent\"><img src=\"https://colab.research.google.com/assets/colab-badge.svg\" alt=\"Open In Colab\"/></a>"
      ]
    },
    {
      "cell_type": "markdown",
      "id": "1f1eac10",
      "metadata": {
        "id": "1f1eac10"
      },
      "source": [
        "## Project: Toxic Comment Filter"
      ]
    },
    {
      "cell_type": "markdown",
      "id": "3504d2cc",
      "metadata": {
        "id": "3504d2cc"
      },
      "source": [
        "Costruire un modello in grado di filtrare i commenti degli utenti in base al grado di dannosità del linguaggio:\n",
        "1. Preprocessare il testo eliminando l'insieme di token che non danno contributo significativo a livello semantico\n",
        "2. Trasformare il corpus testuale in sequenze\n",
        "3. Costruire un modello di Deep Learning comprendente dei layer ricorrenti per un task di classificazione multilabel\n",
        "4. In prediction time, il modello deve ritornare un vettore contenente un 1 o uno 0 in corrispondenza di ogni label presente nel dataset (toxic,\tsevere_toxic,\tobscene,\tthreat,\tinsult,\tidentity_hate). In questo modo, un commento non dannoso sarà classificato da un vettore di soli 0 [0,0,0,0,0,0]. Al contrario, un commento pericoloso presenterà almeno un 1 tra le 6 labels."
      ]
    },
    {
      "cell_type": "code",
      "execution_count": null,
      "id": "bc231d72",
      "metadata": {},
      "outputs": [],
      "source": [
        "from IPython.core.interactiveshell import InteractiveShell\n",
        "InteractiveShell.ast_node_interactivity = \"all\"\n",
        "%config Completer.use_jedi = False\n"
      ]
    },
    {
      "cell_type": "code",
      "execution_count": null,
      "id": "c2f2fb60",
      "metadata": {
        "id": "c2f2fb60"
      },
      "outputs": [],
      "source": [
        "import pandas as pd\n",
        "BASE_URL = \"https://s3.eu-west-3.amazonaws.com/profession.ai/datasets/\"\n",
        "df = pd.read_csv(BASE_URL+\"Filter_Toxic_Comments_dataset.csv\")"
      ]
    },
    {
      "cell_type": "code",
      "execution_count": null,
      "id": "66c3d701",
      "metadata": {
        "id": "66c3d701",
        "outputId": "e08b454a-afe2-4b45-caf6-bd0d5ffd41a0"
      },
      "outputs": [],
      "source": [
        "df.head()"
      ]
    },
    {
      "cell_type": "code",
      "execution_count": null,
      "id": "19e65ce3",
      "metadata": {
        "id": "19e65ce3",
        "outputId": "d0c5f387-3531-4923-dddb-8c41f31ff081"
      },
      "outputs": [],
      "source": [
        "df[df['sum_injurious']==2]"
      ]
    },
    {
      "cell_type": "code",
      "execution_count": null,
      "id": "6b21e249",
      "metadata": {
        "id": "6b21e249",
        "outputId": "32fb9c3b-c21e-4237-c6f1-9c4c3a992182"
      },
      "outputs": [],
      "source": [
        "len(df)"
      ]
    },
    {
      "cell_type": "code",
      "execution_count": null,
      "id": "6a6421ed",
      "metadata": {
        "id": "6a6421ed"
      },
      "outputs": [],
      "source": [
        "import nltk\n",
        "import numpy as np\n",
        "\n",
        "df_text = np.array(df['comment_text'])\n",
        "type(df_text)\n",
        "\n",
        "preprocessed_text = []\n",
        "preprocessed_text.append(' '.join([word for i in range(len(df_text)) \\\n",
        "                                    for word in nltk.word_tokenize(df_text[i].lower()) \\\n",
        "                                    if word.isalpha()]))"
      ]
    },
    {
      "cell_type": "code",
      "execution_count": null,
      "id": "bd95da42",
      "metadata": {},
      "outputs": [],
      "source": [
        "df_text[0]\n",
        "preprocessed_text[0]"
      ]
    }
  ],
  "metadata": {
    "colab": {
      "include_colab_link": true,
      "provenance": []
    },
    "kernelspec": {
      "display_name": "Python 3 (ipykernel)",
      "language": "python",
      "name": "python3"
    },
    "language_info": {
      "codemirror_mode": {
        "name": "ipython",
        "version": 3
      },
      "file_extension": ".py",
      "mimetype": "text/x-python",
      "name": "python",
      "nbconvert_exporter": "python",
      "pygments_lexer": "ipython3",
      "version": "3.11.9"
    }
  },
  "nbformat": 4,
  "nbformat_minor": 5
}
